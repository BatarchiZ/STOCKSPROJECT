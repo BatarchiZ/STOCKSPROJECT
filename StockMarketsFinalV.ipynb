{
 "cells": [
  {
   "cell_type": "markdown",
   "id": "0ae3fec2",
   "metadata": {},
   "source": [
    "# HSE Python Project: Creating a Stock Market porfolio"
   ]
  },
  {
   "cell_type": "markdown",
   "id": "86acd481",
   "metadata": {},
   "source": [
    "by: Iskander Sergazin"
   ]
  },
  {
   "cell_type": "markdown",
   "id": "b02fe0bd",
   "metadata": {},
   "source": [
    "Introduction: The idea behind my project was to analyze S&P 500 Financial Data from https://www.kaggle.com/paytonfisher/sp-500-companies-with-financial-information to try and create a website which would recommend a stock market porfolio. I was inspired to take up this project by the book: The Intelligent Investor. Algorithms created implement Benjamin Grahams methods as a framework, to design sn efficient way to recommend a stock portfolio. The aim of my project is to remove the human effort behind the process of selecting a stocks."
   ]
  },
  {
   "cell_type": "markdown",
   "id": "ab780aea",
   "metadata": {},
   "source": [
    "Functions Used:"
   ]
  },
  {
   "cell_type": "code",
   "execution_count": 1,
   "id": "bfa5f2bd",
   "metadata": {},
   "outputs": [],
   "source": [
    "def Quartile25(x):\n",
    "    return x.quantile(0.25)\n",
    "def Quartile75(x):\n",
    "    return x.quantile(0.75)\n",
    "def Interquartilerange(x):\n",
    "    return x.quantile(0.75) - x.quantile(0.25)\n",
    "#Functions to have a clean table (with caps) \n",
    "def Mean(x):\n",
    "    return x.mean()\n",
    "def Median(x):\n",
    "    return x.median()\n",
    "def StDeviation(x):\n",
    "    return x.std()"
   ]
  },
  {
   "cell_type": "markdown",
   "id": "9cb2d156",
   "metadata": {},
   "source": [
    "# Initial Data & Set-up:"
   ]
  },
  {
   "cell_type": "code",
   "execution_count": 2,
   "id": "47243312",
   "metadata": {},
   "outputs": [],
   "source": [
    "import pandas as pd\n",
    "import seaborn as sns\n",
    "import matplotlib.pyplot as plt\n",
    "data = pd.read_csv('financials.csv')\n",
    "data = data.rename(columns={'Price/Earnings':'Price_Earnings_Ratio','Earnings/Share':'Earnings_Share_Ratio','Dividend Yield':'Dividend_Yield','52 Week Low':'52_Week_Low','52 Week High':'52_Week_High','Market Cap':'Market_Cap','Price/Sales':'Price_Sales_Ratio','Price/Book':'Price_Book_Ratio'})\n",
    "dp = data.drop(['SEC Filings','EBITDA','52_Week_Low','52_Week_High','Symbol'],axis=1)"
   ]
  },
  {
   "cell_type": "code",
   "execution_count": 3,
   "id": "b4b843a7",
   "metadata": {},
   "outputs": [
    {
     "data": {
      "text/html": [
       "<div>\n",
       "<style scoped>\n",
       "    .dataframe tbody tr th:only-of-type {\n",
       "        vertical-align: middle;\n",
       "    }\n",
       "\n",
       "    .dataframe tbody tr th {\n",
       "        vertical-align: top;\n",
       "    }\n",
       "\n",
       "    .dataframe thead th {\n",
       "        text-align: right;\n",
       "    }\n",
       "</style>\n",
       "<table border=\"1\" class=\"dataframe\">\n",
       "  <thead>\n",
       "    <tr style=\"text-align: right;\">\n",
       "      <th></th>\n",
       "      <th>Price</th>\n",
       "      <th>Price_Earnings_Ratio</th>\n",
       "      <th>Dividend_Yield</th>\n",
       "      <th>Earnings_Share_Ratio</th>\n",
       "      <th>52_Week_Low</th>\n",
       "      <th>52_Week_High</th>\n",
       "      <th>Market_Cap</th>\n",
       "      <th>EBITDA</th>\n",
       "      <th>Price_Sales_Ratio</th>\n",
       "      <th>Price_Book_Ratio</th>\n",
       "    </tr>\n",
       "  </thead>\n",
       "  <tbody>\n",
       "    <tr>\n",
       "      <th>Price</th>\n",
       "      <td>1.000000</td>\n",
       "      <td>0.194761</td>\n",
       "      <td>-0.244630</td>\n",
       "      <td>0.591061</td>\n",
       "      <td>0.995076</td>\n",
       "      <td>0.982787</td>\n",
       "      <td>0.406474</td>\n",
       "      <td>0.180321</td>\n",
       "      <td>0.181625</td>\n",
       "      <td>0.023637</td>\n",
       "    </tr>\n",
       "    <tr>\n",
       "      <th>Price_Earnings_Ratio</th>\n",
       "      <td>0.194761</td>\n",
       "      <td>1.000000</td>\n",
       "      <td>-0.181330</td>\n",
       "      <td>0.004570</td>\n",
       "      <td>0.185356</td>\n",
       "      <td>0.144700</td>\n",
       "      <td>0.131381</td>\n",
       "      <td>0.002950</td>\n",
       "      <td>0.188558</td>\n",
       "      <td>0.000366</td>\n",
       "    </tr>\n",
       "    <tr>\n",
       "      <th>Dividend_Yield</th>\n",
       "      <td>-0.244630</td>\n",
       "      <td>-0.181330</td>\n",
       "      <td>1.000000</td>\n",
       "      <td>-0.077235</td>\n",
       "      <td>-0.244426</td>\n",
       "      <td>-0.207953</td>\n",
       "      <td>-0.021794</td>\n",
       "      <td>0.126133</td>\n",
       "      <td>-0.077724</td>\n",
       "      <td>0.089369</td>\n",
       "    </tr>\n",
       "    <tr>\n",
       "      <th>Earnings_Share_Ratio</th>\n",
       "      <td>0.591061</td>\n",
       "      <td>0.004570</td>\n",
       "      <td>-0.077235</td>\n",
       "      <td>1.000000</td>\n",
       "      <td>0.588595</td>\n",
       "      <td>0.604894</td>\n",
       "      <td>0.194063</td>\n",
       "      <td>0.180583</td>\n",
       "      <td>-0.036178</td>\n",
       "      <td>0.032254</td>\n",
       "    </tr>\n",
       "    <tr>\n",
       "      <th>52_Week_Low</th>\n",
       "      <td>0.995076</td>\n",
       "      <td>0.185356</td>\n",
       "      <td>-0.244426</td>\n",
       "      <td>0.588595</td>\n",
       "      <td>1.000000</td>\n",
       "      <td>0.984853</td>\n",
       "      <td>0.398504</td>\n",
       "      <td>0.176277</td>\n",
       "      <td>0.188823</td>\n",
       "      <td>0.023322</td>\n",
       "    </tr>\n",
       "    <tr>\n",
       "      <th>52_Week_High</th>\n",
       "      <td>0.982787</td>\n",
       "      <td>0.144700</td>\n",
       "      <td>-0.207953</td>\n",
       "      <td>0.604894</td>\n",
       "      <td>0.984853</td>\n",
       "      <td>1.000000</td>\n",
       "      <td>0.375588</td>\n",
       "      <td>0.179666</td>\n",
       "      <td>0.173721</td>\n",
       "      <td>0.017794</td>\n",
       "    </tr>\n",
       "    <tr>\n",
       "      <th>Market_Cap</th>\n",
       "      <td>0.406474</td>\n",
       "      <td>0.131381</td>\n",
       "      <td>-0.021794</td>\n",
       "      <td>0.194063</td>\n",
       "      <td>0.398504</td>\n",
       "      <td>0.375588</td>\n",
       "      <td>1.000000</td>\n",
       "      <td>0.771344</td>\n",
       "      <td>0.095249</td>\n",
       "      <td>0.034411</td>\n",
       "    </tr>\n",
       "    <tr>\n",
       "      <th>EBITDA</th>\n",
       "      <td>0.180321</td>\n",
       "      <td>0.002950</td>\n",
       "      <td>0.126133</td>\n",
       "      <td>0.180583</td>\n",
       "      <td>0.176277</td>\n",
       "      <td>0.179666</td>\n",
       "      <td>0.771344</td>\n",
       "      <td>1.000000</td>\n",
       "      <td>-0.037175</td>\n",
       "      <td>0.035547</td>\n",
       "    </tr>\n",
       "    <tr>\n",
       "      <th>Price_Sales_Ratio</th>\n",
       "      <td>0.181625</td>\n",
       "      <td>0.188558</td>\n",
       "      <td>-0.077724</td>\n",
       "      <td>-0.036178</td>\n",
       "      <td>0.188823</td>\n",
       "      <td>0.173721</td>\n",
       "      <td>0.095249</td>\n",
       "      <td>-0.037175</td>\n",
       "      <td>1.000000</td>\n",
       "      <td>0.012337</td>\n",
       "    </tr>\n",
       "    <tr>\n",
       "      <th>Price_Book_Ratio</th>\n",
       "      <td>0.023637</td>\n",
       "      <td>0.000366</td>\n",
       "      <td>0.089369</td>\n",
       "      <td>0.032254</td>\n",
       "      <td>0.023322</td>\n",
       "      <td>0.017794</td>\n",
       "      <td>0.034411</td>\n",
       "      <td>0.035547</td>\n",
       "      <td>0.012337</td>\n",
       "      <td>1.000000</td>\n",
       "    </tr>\n",
       "  </tbody>\n",
       "</table>\n",
       "</div>"
      ],
      "text/plain": [
       "                         Price  Price_Earnings_Ratio  Dividend_Yield  \\\n",
       "Price                 1.000000              0.194761       -0.244630   \n",
       "Price_Earnings_Ratio  0.194761              1.000000       -0.181330   \n",
       "Dividend_Yield       -0.244630             -0.181330        1.000000   \n",
       "Earnings_Share_Ratio  0.591061              0.004570       -0.077235   \n",
       "52_Week_Low           0.995076              0.185356       -0.244426   \n",
       "52_Week_High          0.982787              0.144700       -0.207953   \n",
       "Market_Cap            0.406474              0.131381       -0.021794   \n",
       "EBITDA                0.180321              0.002950        0.126133   \n",
       "Price_Sales_Ratio     0.181625              0.188558       -0.077724   \n",
       "Price_Book_Ratio      0.023637              0.000366        0.089369   \n",
       "\n",
       "                      Earnings_Share_Ratio  52_Week_Low  52_Week_High  \\\n",
       "Price                             0.591061     0.995076      0.982787   \n",
       "Price_Earnings_Ratio              0.004570     0.185356      0.144700   \n",
       "Dividend_Yield                   -0.077235    -0.244426     -0.207953   \n",
       "Earnings_Share_Ratio              1.000000     0.588595      0.604894   \n",
       "52_Week_Low                       0.588595     1.000000      0.984853   \n",
       "52_Week_High                      0.604894     0.984853      1.000000   \n",
       "Market_Cap                        0.194063     0.398504      0.375588   \n",
       "EBITDA                            0.180583     0.176277      0.179666   \n",
       "Price_Sales_Ratio                -0.036178     0.188823      0.173721   \n",
       "Price_Book_Ratio                  0.032254     0.023322      0.017794   \n",
       "\n",
       "                      Market_Cap    EBITDA  Price_Sales_Ratio  \\\n",
       "Price                   0.406474  0.180321           0.181625   \n",
       "Price_Earnings_Ratio    0.131381  0.002950           0.188558   \n",
       "Dividend_Yield         -0.021794  0.126133          -0.077724   \n",
       "Earnings_Share_Ratio    0.194063  0.180583          -0.036178   \n",
       "52_Week_Low             0.398504  0.176277           0.188823   \n",
       "52_Week_High            0.375588  0.179666           0.173721   \n",
       "Market_Cap              1.000000  0.771344           0.095249   \n",
       "EBITDA                  0.771344  1.000000          -0.037175   \n",
       "Price_Sales_Ratio       0.095249 -0.037175           1.000000   \n",
       "Price_Book_Ratio        0.034411  0.035547           0.012337   \n",
       "\n",
       "                      Price_Book_Ratio  \n",
       "Price                         0.023637  \n",
       "Price_Earnings_Ratio          0.000366  \n",
       "Dividend_Yield                0.089369  \n",
       "Earnings_Share_Ratio          0.032254  \n",
       "52_Week_Low                   0.023322  \n",
       "52_Week_High                  0.017794  \n",
       "Market_Cap                    0.034411  \n",
       "EBITDA                        0.035547  \n",
       "Price_Sales_Ratio             0.012337  \n",
       "Price_Book_Ratio              1.000000  "
      ]
     },
     "execution_count": 3,
     "metadata": {},
     "output_type": "execute_result"
    }
   ],
   "source": [
    "data.corr()"
   ]
  },
  {
   "cell_type": "code",
   "execution_count": 4,
   "id": "4c4d4097",
   "metadata": {},
   "outputs": [
    {
     "data": {
      "text/html": [
       "<div>\n",
       "<style scoped>\n",
       "    .dataframe tbody tr th:only-of-type {\n",
       "        vertical-align: middle;\n",
       "    }\n",
       "\n",
       "    .dataframe tbody tr th {\n",
       "        vertical-align: top;\n",
       "    }\n",
       "\n",
       "    .dataframe thead th {\n",
       "        text-align: right;\n",
       "    }\n",
       "</style>\n",
       "<table border=\"1\" class=\"dataframe\">\n",
       "  <thead>\n",
       "    <tr style=\"text-align: right;\">\n",
       "      <th></th>\n",
       "      <th>Name</th>\n",
       "      <th>Sector</th>\n",
       "      <th>Price</th>\n",
       "      <th>Price_Earnings_Ratio</th>\n",
       "      <th>Dividend_Yield</th>\n",
       "      <th>Earnings_Share_Ratio</th>\n",
       "      <th>Market_Cap</th>\n",
       "      <th>Price_Sales_Ratio</th>\n",
       "      <th>Price_Book_Ratio</th>\n",
       "    </tr>\n",
       "  </thead>\n",
       "  <tbody>\n",
       "    <tr>\n",
       "      <th>0</th>\n",
       "      <td>3M Company</td>\n",
       "      <td>Industrials</td>\n",
       "      <td>222.89</td>\n",
       "      <td>24.31</td>\n",
       "      <td>2.332862</td>\n",
       "      <td>7.92</td>\n",
       "      <td>1.387211e+11</td>\n",
       "      <td>4.390271</td>\n",
       "      <td>11.34</td>\n",
       "    </tr>\n",
       "    <tr>\n",
       "      <th>1</th>\n",
       "      <td>A.O. Smith Corp</td>\n",
       "      <td>Industrials</td>\n",
       "      <td>60.24</td>\n",
       "      <td>27.76</td>\n",
       "      <td>1.147959</td>\n",
       "      <td>1.70</td>\n",
       "      <td>1.078342e+10</td>\n",
       "      <td>3.575483</td>\n",
       "      <td>6.35</td>\n",
       "    </tr>\n",
       "    <tr>\n",
       "      <th>2</th>\n",
       "      <td>Abbott Laboratories</td>\n",
       "      <td>Health Care</td>\n",
       "      <td>56.27</td>\n",
       "      <td>22.51</td>\n",
       "      <td>1.908982</td>\n",
       "      <td>0.26</td>\n",
       "      <td>1.021210e+11</td>\n",
       "      <td>3.740480</td>\n",
       "      <td>3.19</td>\n",
       "    </tr>\n",
       "    <tr>\n",
       "      <th>3</th>\n",
       "      <td>AbbVie Inc.</td>\n",
       "      <td>Health Care</td>\n",
       "      <td>108.48</td>\n",
       "      <td>19.41</td>\n",
       "      <td>2.499560</td>\n",
       "      <td>3.29</td>\n",
       "      <td>1.813863e+11</td>\n",
       "      <td>6.291571</td>\n",
       "      <td>26.14</td>\n",
       "    </tr>\n",
       "    <tr>\n",
       "      <th>4</th>\n",
       "      <td>Accenture plc</td>\n",
       "      <td>Information Technology</td>\n",
       "      <td>150.51</td>\n",
       "      <td>25.47</td>\n",
       "      <td>1.714470</td>\n",
       "      <td>5.44</td>\n",
       "      <td>9.876586e+10</td>\n",
       "      <td>2.604117</td>\n",
       "      <td>10.62</td>\n",
       "    </tr>\n",
       "    <tr>\n",
       "      <th>5</th>\n",
       "      <td>Activision Blizzard</td>\n",
       "      <td>Information Technology</td>\n",
       "      <td>65.83</td>\n",
       "      <td>31.80</td>\n",
       "      <td>0.431903</td>\n",
       "      <td>1.28</td>\n",
       "      <td>5.251867e+10</td>\n",
       "      <td>10.595120</td>\n",
       "      <td>5.16</td>\n",
       "    </tr>\n",
       "    <tr>\n",
       "      <th>6</th>\n",
       "      <td>Acuity Brands Inc</td>\n",
       "      <td>Industrials</td>\n",
       "      <td>145.41</td>\n",
       "      <td>18.22</td>\n",
       "      <td>0.351185</td>\n",
       "      <td>7.43</td>\n",
       "      <td>6.242378e+09</td>\n",
       "      <td>1.795347</td>\n",
       "      <td>3.55</td>\n",
       "    </tr>\n",
       "    <tr>\n",
       "      <th>7</th>\n",
       "      <td>Adobe Systems Inc</td>\n",
       "      <td>Information Technology</td>\n",
       "      <td>185.16</td>\n",
       "      <td>52.31</td>\n",
       "      <td>0.000000</td>\n",
       "      <td>3.39</td>\n",
       "      <td>9.455021e+10</td>\n",
       "      <td>13.092818</td>\n",
       "      <td>11.06</td>\n",
       "    </tr>\n",
       "    <tr>\n",
       "      <th>8</th>\n",
       "      <td>Advance Auto Parts</td>\n",
       "      <td>Consumer Discretionary</td>\n",
       "      <td>109.63</td>\n",
       "      <td>19.54</td>\n",
       "      <td>0.218321</td>\n",
       "      <td>6.19</td>\n",
       "      <td>8.123612e+09</td>\n",
       "      <td>1.130106</td>\n",
       "      <td>2.51</td>\n",
       "    </tr>\n",
       "    <tr>\n",
       "      <th>9</th>\n",
       "      <td>Advanced Micro Devices Inc</td>\n",
       "      <td>Information Technology</td>\n",
       "      <td>11.22</td>\n",
       "      <td>187.00</td>\n",
       "      <td>0.000000</td>\n",
       "      <td>0.03</td>\n",
       "      <td>1.119166e+10</td>\n",
       "      <td>2.109195</td>\n",
       "      <td>21.47</td>\n",
       "    </tr>\n",
       "  </tbody>\n",
       "</table>\n",
       "</div>"
      ],
      "text/plain": [
       "                         Name                  Sector   Price  \\\n",
       "0                  3M Company             Industrials  222.89   \n",
       "1             A.O. Smith Corp             Industrials   60.24   \n",
       "2         Abbott Laboratories             Health Care   56.27   \n",
       "3                 AbbVie Inc.             Health Care  108.48   \n",
       "4               Accenture plc  Information Technology  150.51   \n",
       "5         Activision Blizzard  Information Technology   65.83   \n",
       "6           Acuity Brands Inc             Industrials  145.41   \n",
       "7           Adobe Systems Inc  Information Technology  185.16   \n",
       "8          Advance Auto Parts  Consumer Discretionary  109.63   \n",
       "9  Advanced Micro Devices Inc  Information Technology   11.22   \n",
       "\n",
       "   Price_Earnings_Ratio  Dividend_Yield  Earnings_Share_Ratio    Market_Cap  \\\n",
       "0                 24.31        2.332862                  7.92  1.387211e+11   \n",
       "1                 27.76        1.147959                  1.70  1.078342e+10   \n",
       "2                 22.51        1.908982                  0.26  1.021210e+11   \n",
       "3                 19.41        2.499560                  3.29  1.813863e+11   \n",
       "4                 25.47        1.714470                  5.44  9.876586e+10   \n",
       "5                 31.80        0.431903                  1.28  5.251867e+10   \n",
       "6                 18.22        0.351185                  7.43  6.242378e+09   \n",
       "7                 52.31        0.000000                  3.39  9.455021e+10   \n",
       "8                 19.54        0.218321                  6.19  8.123612e+09   \n",
       "9                187.00        0.000000                  0.03  1.119166e+10   \n",
       "\n",
       "   Price_Sales_Ratio  Price_Book_Ratio  \n",
       "0           4.390271             11.34  \n",
       "1           3.575483              6.35  \n",
       "2           3.740480              3.19  \n",
       "3           6.291571             26.14  \n",
       "4           2.604117             10.62  \n",
       "5          10.595120              5.16  \n",
       "6           1.795347              3.55  \n",
       "7          13.092818             11.06  \n",
       "8           1.130106              2.51  \n",
       "9           2.109195             21.47  "
      ]
     },
     "execution_count": 4,
     "metadata": {},
     "output_type": "execute_result"
    }
   ],
   "source": [
    "dp.head(10)"
   ]
  },
  {
   "cell_type": "code",
   "execution_count": 5,
   "id": "2f023bef",
   "metadata": {},
   "outputs": [
    {
     "data": {
      "text/html": [
       "<div>\n",
       "<style scoped>\n",
       "    .dataframe tbody tr th:only-of-type {\n",
       "        vertical-align: middle;\n",
       "    }\n",
       "\n",
       "    .dataframe tbody tr th {\n",
       "        vertical-align: top;\n",
       "    }\n",
       "\n",
       "    .dataframe thead th {\n",
       "        text-align: right;\n",
       "    }\n",
       "</style>\n",
       "<table border=\"1\" class=\"dataframe\">\n",
       "  <thead>\n",
       "    <tr style=\"text-align: right;\">\n",
       "      <th></th>\n",
       "      <th>Name</th>\n",
       "      <th>Sector</th>\n",
       "      <th>Price</th>\n",
       "      <th>Price_Earnings_Ratio</th>\n",
       "      <th>Dividend_Yield</th>\n",
       "      <th>Earnings_Share_Ratio</th>\n",
       "      <th>Market_Cap</th>\n",
       "      <th>Price_Sales_Ratio</th>\n",
       "      <th>Price_Book_Ratio</th>\n",
       "    </tr>\n",
       "  </thead>\n",
       "  <tbody>\n",
       "    <tr>\n",
       "      <th>485</th>\n",
       "      <td>Wells Fargo</td>\n",
       "      <td>Financials</td>\n",
       "      <td>55.40</td>\n",
       "      <td>13.58</td>\n",
       "      <td>2.711158</td>\n",
       "      <td>4.07</td>\n",
       "      <td>2.814636e+11</td>\n",
       "      <td>2.872819</td>\n",
       "      <td>1.58</td>\n",
       "    </tr>\n",
       "    <tr>\n",
       "      <th>486</th>\n",
       "      <td>Welltower Inc.</td>\n",
       "      <td>Real Estate</td>\n",
       "      <td>54.67</td>\n",
       "      <td>12.74</td>\n",
       "      <td>6.153846</td>\n",
       "      <td>2.81</td>\n",
       "      <td>2.094368e+10</td>\n",
       "      <td>6.725218</td>\n",
       "      <td>1.49</td>\n",
       "    </tr>\n",
       "    <tr>\n",
       "      <th>487</th>\n",
       "      <td>Western Digital</td>\n",
       "      <td>Information Technology</td>\n",
       "      <td>80.09</td>\n",
       "      <td>10.19</td>\n",
       "      <td>2.389201</td>\n",
       "      <td>1.29</td>\n",
       "      <td>2.476030e+10</td>\n",
       "      <td>1.245503</td>\n",
       "      <td>2.00</td>\n",
       "    </tr>\n",
       "    <tr>\n",
       "      <th>488</th>\n",
       "      <td>Western Union Co</td>\n",
       "      <td>Information Technology</td>\n",
       "      <td>18.81</td>\n",
       "      <td>10.17</td>\n",
       "      <td>3.591585</td>\n",
       "      <td>0.51</td>\n",
       "      <td>8.951609e+09</td>\n",
       "      <td>2.226770</td>\n",
       "      <td>12.65</td>\n",
       "    </tr>\n",
       "    <tr>\n",
       "      <th>489</th>\n",
       "      <td>WestRock Company</td>\n",
       "      <td>Materials</td>\n",
       "      <td>60.93</td>\n",
       "      <td>23.26</td>\n",
       "      <td>2.669978</td>\n",
       "      <td>2.77</td>\n",
       "      <td>1.643334e+10</td>\n",
       "      <td>1.075785</td>\n",
       "      <td>1.58</td>\n",
       "    </tr>\n",
       "    <tr>\n",
       "      <th>490</th>\n",
       "      <td>Weyerhaeuser Corp.</td>\n",
       "      <td>Real Estate</td>\n",
       "      <td>33.60</td>\n",
       "      <td>34.29</td>\n",
       "      <td>3.707995</td>\n",
       "      <td>0.77</td>\n",
       "      <td>2.607030e+10</td>\n",
       "      <td>3.639679</td>\n",
       "      <td>2.90</td>\n",
       "    </tr>\n",
       "    <tr>\n",
       "      <th>491</th>\n",
       "      <td>Whirlpool Corp.</td>\n",
       "      <td>Consumer Discretionary</td>\n",
       "      <td>164.95</td>\n",
       "      <td>11.77</td>\n",
       "      <td>2.565299</td>\n",
       "      <td>4.51</td>\n",
       "      <td>1.217792e+10</td>\n",
       "      <td>0.580648</td>\n",
       "      <td>2.57</td>\n",
       "    </tr>\n",
       "    <tr>\n",
       "      <th>492</th>\n",
       "      <td>Williams Cos.</td>\n",
       "      <td>Energy</td>\n",
       "      <td>28.56</td>\n",
       "      <td>48.41</td>\n",
       "      <td>4.000000</td>\n",
       "      <td>-0.57</td>\n",
       "      <td>2.480240e+10</td>\n",
       "      <td>4.298285</td>\n",
       "      <td>3.01</td>\n",
       "    </tr>\n",
       "    <tr>\n",
       "      <th>493</th>\n",
       "      <td>Willis Towers Watson</td>\n",
       "      <td>Financials</td>\n",
       "      <td>152.36</td>\n",
       "      <td>18.67</td>\n",
       "      <td>1.347058</td>\n",
       "      <td>3.07</td>\n",
       "      <td>2.078027e+10</td>\n",
       "      <td>3.448466</td>\n",
       "      <td>2.10</td>\n",
       "    </tr>\n",
       "    <tr>\n",
       "      <th>494</th>\n",
       "      <td>Wyndham Worldwide</td>\n",
       "      <td>Consumer Discretionary</td>\n",
       "      <td>113.56</td>\n",
       "      <td>18.77</td>\n",
       "      <td>1.954178</td>\n",
       "      <td>5.53</td>\n",
       "      <td>1.199384e+10</td>\n",
       "      <td>2.733208</td>\n",
       "      <td>18.91</td>\n",
       "    </tr>\n",
       "    <tr>\n",
       "      <th>495</th>\n",
       "      <td>Wynn Resorts Ltd</td>\n",
       "      <td>Consumer Discretionary</td>\n",
       "      <td>169.28</td>\n",
       "      <td>31.70</td>\n",
       "      <td>1.127904</td>\n",
       "      <td>7.27</td>\n",
       "      <td>1.822540e+10</td>\n",
       "      <td>2.478658</td>\n",
       "      <td>51.69</td>\n",
       "    </tr>\n",
       "    <tr>\n",
       "      <th>496</th>\n",
       "      <td>Xcel Energy Inc</td>\n",
       "      <td>Utilities</td>\n",
       "      <td>42.44</td>\n",
       "      <td>18.14</td>\n",
       "      <td>3.391427</td>\n",
       "      <td>2.21</td>\n",
       "      <td>2.155961e+10</td>\n",
       "      <td>2.520456</td>\n",
       "      <td>1.94</td>\n",
       "    </tr>\n",
       "    <tr>\n",
       "      <th>497</th>\n",
       "      <td>Xerox Corp.</td>\n",
       "      <td>Information Technology</td>\n",
       "      <td>29.80</td>\n",
       "      <td>8.87</td>\n",
       "      <td>3.207184</td>\n",
       "      <td>0.59</td>\n",
       "      <td>7.938833e+09</td>\n",
       "      <td>0.787766</td>\n",
       "      <td>1.49</td>\n",
       "    </tr>\n",
       "    <tr>\n",
       "      <th>498</th>\n",
       "      <td>Xilinx Inc</td>\n",
       "      <td>Information Technology</td>\n",
       "      <td>62.82</td>\n",
       "      <td>27.19</td>\n",
       "      <td>2.090488</td>\n",
       "      <td>2.32</td>\n",
       "      <td>1.706498e+10</td>\n",
       "      <td>7.101206</td>\n",
       "      <td>7.22</td>\n",
       "    </tr>\n",
       "    <tr>\n",
       "      <th>499</th>\n",
       "      <td>XL Capital</td>\n",
       "      <td>Financials</td>\n",
       "      <td>41.26</td>\n",
       "      <td>-19.93</td>\n",
       "      <td>2.095238</td>\n",
       "      <td>-2.24</td>\n",
       "      <td>1.075342e+10</td>\n",
       "      <td>0.843942</td>\n",
       "      <td>0.97</td>\n",
       "    </tr>\n",
       "    <tr>\n",
       "      <th>500</th>\n",
       "      <td>Xylem Inc.</td>\n",
       "      <td>Industrials</td>\n",
       "      <td>70.24</td>\n",
       "      <td>30.94</td>\n",
       "      <td>1.170079</td>\n",
       "      <td>1.83</td>\n",
       "      <td>1.291502e+10</td>\n",
       "      <td>2.726209</td>\n",
       "      <td>5.31</td>\n",
       "    </tr>\n",
       "    <tr>\n",
       "      <th>501</th>\n",
       "      <td>Yum! Brands Inc</td>\n",
       "      <td>Consumer Discretionary</td>\n",
       "      <td>76.30</td>\n",
       "      <td>27.25</td>\n",
       "      <td>1.797080</td>\n",
       "      <td>4.07</td>\n",
       "      <td>2.700330e+10</td>\n",
       "      <td>6.313636</td>\n",
       "      <td>212.08</td>\n",
       "    </tr>\n",
       "    <tr>\n",
       "      <th>502</th>\n",
       "      <td>Zimmer Biomet Holdings</td>\n",
       "      <td>Health Care</td>\n",
       "      <td>115.53</td>\n",
       "      <td>14.32</td>\n",
       "      <td>0.794834</td>\n",
       "      <td>9.01</td>\n",
       "      <td>2.445470e+10</td>\n",
       "      <td>3.164895</td>\n",
       "      <td>2.39</td>\n",
       "    </tr>\n",
       "    <tr>\n",
       "      <th>503</th>\n",
       "      <td>Zions Bancorp</td>\n",
       "      <td>Financials</td>\n",
       "      <td>50.71</td>\n",
       "      <td>17.73</td>\n",
       "      <td>1.480933</td>\n",
       "      <td>2.60</td>\n",
       "      <td>1.067068e+10</td>\n",
       "      <td>3.794579</td>\n",
       "      <td>1.42</td>\n",
       "    </tr>\n",
       "    <tr>\n",
       "      <th>504</th>\n",
       "      <td>Zoetis</td>\n",
       "      <td>Health Care</td>\n",
       "      <td>71.51</td>\n",
       "      <td>32.80</td>\n",
       "      <td>0.682372</td>\n",
       "      <td>1.65</td>\n",
       "      <td>3.599111e+10</td>\n",
       "      <td>9.280896</td>\n",
       "      <td>18.09</td>\n",
       "    </tr>\n",
       "  </tbody>\n",
       "</table>\n",
       "</div>"
      ],
      "text/plain": [
       "                       Name                  Sector   Price  \\\n",
       "485             Wells Fargo              Financials   55.40   \n",
       "486          Welltower Inc.             Real Estate   54.67   \n",
       "487         Western Digital  Information Technology   80.09   \n",
       "488        Western Union Co  Information Technology   18.81   \n",
       "489        WestRock Company               Materials   60.93   \n",
       "490      Weyerhaeuser Corp.             Real Estate   33.60   \n",
       "491         Whirlpool Corp.  Consumer Discretionary  164.95   \n",
       "492           Williams Cos.                  Energy   28.56   \n",
       "493    Willis Towers Watson              Financials  152.36   \n",
       "494       Wyndham Worldwide  Consumer Discretionary  113.56   \n",
       "495        Wynn Resorts Ltd  Consumer Discretionary  169.28   \n",
       "496         Xcel Energy Inc               Utilities   42.44   \n",
       "497             Xerox Corp.  Information Technology   29.80   \n",
       "498              Xilinx Inc  Information Technology   62.82   \n",
       "499              XL Capital              Financials   41.26   \n",
       "500              Xylem Inc.             Industrials   70.24   \n",
       "501         Yum! Brands Inc  Consumer Discretionary   76.30   \n",
       "502  Zimmer Biomet Holdings             Health Care  115.53   \n",
       "503           Zions Bancorp              Financials   50.71   \n",
       "504                  Zoetis             Health Care   71.51   \n",
       "\n",
       "     Price_Earnings_Ratio  Dividend_Yield  Earnings_Share_Ratio    Market_Cap  \\\n",
       "485                 13.58        2.711158                  4.07  2.814636e+11   \n",
       "486                 12.74        6.153846                  2.81  2.094368e+10   \n",
       "487                 10.19        2.389201                  1.29  2.476030e+10   \n",
       "488                 10.17        3.591585                  0.51  8.951609e+09   \n",
       "489                 23.26        2.669978                  2.77  1.643334e+10   \n",
       "490                 34.29        3.707995                  0.77  2.607030e+10   \n",
       "491                 11.77        2.565299                  4.51  1.217792e+10   \n",
       "492                 48.41        4.000000                 -0.57  2.480240e+10   \n",
       "493                 18.67        1.347058                  3.07  2.078027e+10   \n",
       "494                 18.77        1.954178                  5.53  1.199384e+10   \n",
       "495                 31.70        1.127904                  7.27  1.822540e+10   \n",
       "496                 18.14        3.391427                  2.21  2.155961e+10   \n",
       "497                  8.87        3.207184                  0.59  7.938833e+09   \n",
       "498                 27.19        2.090488                  2.32  1.706498e+10   \n",
       "499                -19.93        2.095238                 -2.24  1.075342e+10   \n",
       "500                 30.94        1.170079                  1.83  1.291502e+10   \n",
       "501                 27.25        1.797080                  4.07  2.700330e+10   \n",
       "502                 14.32        0.794834                  9.01  2.445470e+10   \n",
       "503                 17.73        1.480933                  2.60  1.067068e+10   \n",
       "504                 32.80        0.682372                  1.65  3.599111e+10   \n",
       "\n",
       "     Price_Sales_Ratio  Price_Book_Ratio  \n",
       "485           2.872819              1.58  \n",
       "486           6.725218              1.49  \n",
       "487           1.245503              2.00  \n",
       "488           2.226770             12.65  \n",
       "489           1.075785              1.58  \n",
       "490           3.639679              2.90  \n",
       "491           0.580648              2.57  \n",
       "492           4.298285              3.01  \n",
       "493           3.448466              2.10  \n",
       "494           2.733208             18.91  \n",
       "495           2.478658             51.69  \n",
       "496           2.520456              1.94  \n",
       "497           0.787766              1.49  \n",
       "498           7.101206              7.22  \n",
       "499           0.843942              0.97  \n",
       "500           2.726209              5.31  \n",
       "501           6.313636            212.08  \n",
       "502           3.164895              2.39  \n",
       "503           3.794579              1.42  \n",
       "504           9.280896             18.09  "
      ]
     },
     "execution_count": 5,
     "metadata": {},
     "output_type": "execute_result"
    }
   ],
   "source": [
    "dp.tail(20)"
   ]
  },
  {
   "cell_type": "markdown",
   "id": "f4248334",
   "metadata": {},
   "source": [
    "From the initial data, it is evident that there is either weak or no correlation between the data variables."
   ]
  },
  {
   "cell_type": "markdown",
   "id": "85099d16",
   "metadata": {},
   "source": [
    "During my data preprocessing, I have removed 'Symbol', 'SEC Filings', 'EBITDA', '52 Week High' and 'Lows' because they were irrelevant for my field of study and will not be used throughout the project."
   ]
  },
  {
   "cell_type": "markdown",
   "id": "bb574736",
   "metadata": {},
   "source": [
    "# Task 1:"
   ]
  },
  {
   "cell_type": "markdown",
   "id": "86b39500",
   "metadata": {},
   "source": [
    "Task 1: For the first part of the project it was decided to compare two families of data analysis methods, 'mean & standard deviation' with 'median & interquartile range (IQR)'. This will give some key insights about the data faced, as well as allow to choose the most appropriate plot type with regards to the spread of the data. \n",
    "\n",
    "*Please refer to functions.py for the functions used"
   ]
  },
  {
   "cell_type": "code",
   "execution_count": 6,
   "id": "9eb8327e",
   "metadata": {},
   "outputs": [
    {
     "data": {
      "text/html": [
       "<div>\n",
       "<style scoped>\n",
       "    .dataframe tbody tr th:only-of-type {\n",
       "        vertical-align: middle;\n",
       "    }\n",
       "\n",
       "    .dataframe tbody tr th {\n",
       "        vertical-align: top;\n",
       "    }\n",
       "\n",
       "    .dataframe thead th {\n",
       "        text-align: right;\n",
       "    }\n",
       "</style>\n",
       "<table border=\"1\" class=\"dataframe\">\n",
       "  <thead>\n",
       "    <tr style=\"text-align: right;\">\n",
       "      <th></th>\n",
       "      <th>Price</th>\n",
       "      <th>Price_Earnings_Ratio</th>\n",
       "      <th>Dividend_Yield</th>\n",
       "      <th>Earnings_Share_Ratio</th>\n",
       "      <th>Market_Cap</th>\n",
       "      <th>Price_Sales_Ratio</th>\n",
       "      <th>Price_Book_Ratio</th>\n",
       "    </tr>\n",
       "  </thead>\n",
       "  <tbody>\n",
       "    <tr>\n",
       "      <th>Mean</th>\n",
       "      <td>103.83</td>\n",
       "      <td>24.81</td>\n",
       "      <td>1.90</td>\n",
       "      <td>3.75</td>\n",
       "      <td>4.923944e+10</td>\n",
       "      <td>3.94</td>\n",
       "      <td>14.45</td>\n",
       "    </tr>\n",
       "    <tr>\n",
       "      <th>StDeviation</th>\n",
       "      <td>134.43</td>\n",
       "      <td>41.24</td>\n",
       "      <td>1.54</td>\n",
       "      <td>5.69</td>\n",
       "      <td>9.005017e+10</td>\n",
       "      <td>3.46</td>\n",
       "      <td>89.66</td>\n",
       "    </tr>\n",
       "    <tr>\n",
       "      <th>Median</th>\n",
       "      <td>73.92</td>\n",
       "      <td>19.45</td>\n",
       "      <td>1.77</td>\n",
       "      <td>2.89</td>\n",
       "      <td>2.140095e+10</td>\n",
       "      <td>2.90</td>\n",
       "      <td>3.40</td>\n",
       "    </tr>\n",
       "    <tr>\n",
       "      <th>Quartile25</th>\n",
       "      <td>46.25</td>\n",
       "      <td>15.35</td>\n",
       "      <td>0.79</td>\n",
       "      <td>1.49</td>\n",
       "      <td>1.273207e+10</td>\n",
       "      <td>1.63</td>\n",
       "      <td>2.02</td>\n",
       "    </tr>\n",
       "    <tr>\n",
       "      <th>Quartile75</th>\n",
       "      <td>116.54</td>\n",
       "      <td>25.75</td>\n",
       "      <td>2.78</td>\n",
       "      <td>5.14</td>\n",
       "      <td>4.511968e+10</td>\n",
       "      <td>4.70</td>\n",
       "      <td>6.11</td>\n",
       "    </tr>\n",
       "    <tr>\n",
       "      <th>Interquartilerange</th>\n",
       "      <td>70.29</td>\n",
       "      <td>10.40</td>\n",
       "      <td>1.99</td>\n",
       "      <td>3.65</td>\n",
       "      <td>3.238761e+10</td>\n",
       "      <td>3.07</td>\n",
       "      <td>4.09</td>\n",
       "    </tr>\n",
       "  </tbody>\n",
       "</table>\n",
       "</div>"
      ],
      "text/plain": [
       "                     Price  Price_Earnings_Ratio  Dividend_Yield  \\\n",
       "Mean                103.83                 24.81            1.90   \n",
       "StDeviation         134.43                 41.24            1.54   \n",
       "Median               73.92                 19.45            1.77   \n",
       "Quartile25           46.25                 15.35            0.79   \n",
       "Quartile75          116.54                 25.75            2.78   \n",
       "Interquartilerange   70.29                 10.40            1.99   \n",
       "\n",
       "                    Earnings_Share_Ratio    Market_Cap  Price_Sales_Ratio  \\\n",
       "Mean                                3.75  4.923944e+10               3.94   \n",
       "StDeviation                         5.69  9.005017e+10               3.46   \n",
       "Median                              2.89  2.140095e+10               2.90   \n",
       "Quartile25                          1.49  1.273207e+10               1.63   \n",
       "Quartile75                          5.14  4.511968e+10               4.70   \n",
       "Interquartilerange                  3.65  3.238761e+10               3.07   \n",
       "\n",
       "                    Price_Book_Ratio  \n",
       "Mean                           14.45  \n",
       "StDeviation                    89.66  \n",
       "Median                          3.40  \n",
       "Quartile25                      2.02  \n",
       "Quartile75                      6.11  \n",
       "Interquartilerange              4.09  "
      ]
     },
     "execution_count": 6,
     "metadata": {},
     "output_type": "execute_result"
    }
   ],
   "source": [
    "dp.agg([Mean,StDeviation,Median,Quartile25,Quartile75,Interquartilerange]).round(2)"
   ]
  },
  {
   "cell_type": "markdown",
   "id": "d30d2629",
   "metadata": {},
   "source": [
    "From the table, it is evident that metrics which the project is aimed to focus on, namely: 'Price_Earnings_Ratio', and 'Book Value' are unevenly distributed. The high standard deviation suggests extreme value 'outliers' within the data. To confirm this trend, boxplots will be used in the following task. "
   ]
  },
  {
   "cell_type": "markdown",
   "id": "94e642d7",
   "metadata": {},
   "source": [
    "# Task 2:"
   ]
  },
  {
   "cell_type": "code",
   "execution_count": 7,
   "id": "88110d6c",
   "metadata": {},
   "outputs": [
    {
     "data": {
      "text/plain": [
       "[Text(0.5, 0, 'Ratio'),\n",
       " Text(0, 0.5, 'Companies'),\n",
       " Text(0.5, 1.0, 'S&P 500 EPS Boxplot')]"
      ]
     },
     "execution_count": 7,
     "metadata": {},
     "output_type": "execute_result"
    },
    {
     "data": {
      "image/png": "[encoded data removed]",
      "text/plain": [
       "<Figure size 432x288 with 1 Axes>"
      ]
     },
     "metadata": {
      "needs_background": "light"
     },
     "output_type": "display_data"
    }
   ],
   "source": [
    "sns.boxplot(data = dp.Earnings_Share_Ratio, orient = 'h').set(\n",
    "    xlabel='Ratio',\n",
    "    ylabel = 'Companies',\n",
    "    title='S&P 500 EPS Boxplot')"
   ]
  },
  {
   "cell_type": "code",
   "execution_count": 8,
   "id": "7ae397ff",
   "metadata": {},
   "outputs": [
    {
     "data": {
      "text/plain": [
       "[Text(0.5, 0, 'Ratio'),\n",
       " Text(0, 0.5, 'Companies'),\n",
       " Text(0.5, 1.0, 'S&P 500 PER Boxplot')]"
      ]
     },
     "execution_count": 8,
     "metadata": {},
     "output_type": "execute_result"
    },
    {
     "data": {
      "image/png": "[encoded data removed]",
      "text/plain": [
       "<Figure size 432x288 with 1 Axes>"
      ]
     },
     "metadata": {
      "needs_background": "light"
     },
     "output_type": "display_data"
    }
   ],
   "source": [
    "sns.boxplot(data = dp.Price_Earnings_Ratio, orient = 'h').set(\n",
    "    xlabel='Ratio',\n",
    "    ylabel = 'Companies',\n",
    "    title='S&P 500 PER Boxplot')"
   ]
  },
  {
   "cell_type": "code",
   "execution_count": 9,
   "id": "5b037ee6",
   "metadata": {},
   "outputs": [
    {
     "data": {
      "text/plain": [
       "[Text(0.5, 0, 'Ratio'),\n",
       " Text(0, 0.5, 'Companies'),\n",
       " Text(0.5, 1.0, 'S&P 500 PSR Boxplot')]"
      ]
     },
     "execution_count": 9,
     "metadata": {},
     "output_type": "execute_result"
    },
    {
     "data": {
      "image/png": "[encoded data removed]",
      "text/plain": [
       "<Figure size 432x288 with 1 Axes>"
      ]
     },
     "metadata": {
      "needs_background": "light"
     },
     "output_type": "display_data"
    }
   ],
   "source": [
    "sns.boxplot(data = dp.Price_Sales_Ratio,orient = 'h').set(\n",
    "    xlabel='Ratio',\n",
    "    ylabel = 'Companies',\n",
    "    title='S&P 500 PSR Boxplot')"
   ]
  },
  {
   "cell_type": "code",
   "execution_count": 10,
   "id": "3b493420",
   "metadata": {},
   "outputs": [
    {
     "data": {
      "text/plain": [
       "[Text(0.5, 0, 'Ratio'),\n",
       " Text(0, 0.5, 'Companies'),\n",
       " Text(0.5, 1.0, 'S&P 500 BV Boxplot')]"
      ]
     },
     "execution_count": 10,
     "metadata": {},
     "output_type": "execute_result"
    },
    {
     "data": {
      "image/png": "[encoded data removed]",
      "text/plain": [
       "<Figure size 432x288 with 1 Axes>"
      ]
     },
     "metadata": {
      "needs_background": "light"
     },
     "output_type": "display_data"
    }
   ],
   "source": [
    "sns.boxplot(data = dp.Price_Book_Ratio,orient = 'h' ).set(\n",
    "    xlabel='Ratio',\n",
    "    ylabel = 'Companies',\n",
    "    title='S&P 500 BV Boxplot')"
   ]
  },
  {
   "cell_type": "markdown",
   "id": "3aeb8d63",
   "metadata": {},
   "source": [
    "As predicted, boxplots show that there are many values which do not fit in with the general trend. The 'Price_Book_Ratio' boxplot is unclear, due to the existence of extreme data points. These data points will not be used for the stock portfolio, because the existence of extreme values, could be a signal of overspeculation or an unhealthy management type. Therefore, it was decided to filter these data points."
   ]
  },
  {
   "cell_type": "markdown",
   "id": "51d2e428",
   "metadata": {},
   "source": [
    "Method for filtering: \n",
    "I will be using my median and IQR data to identify boundaries and remove data points above and below the voundary. The formula to identify an outlier will be (Q1-1.5*IQR or Q3+1.5*IQR).\n",
    "Source: https://www.simplypsychology.org/boxplots.html\n",
    "\n",
    "The project will mainly focus on PER(Price_Earnings_Ratio) and BV('Price_Book_Ratio'), as recommended in the book 'The Intelligent Investor', therefore only the outliers for these two parameters will be removed. \n",
    "\n",
    "Filtering Code:"
   ]
  },
  {
   "cell_type": "code",
   "execution_count": 11,
   "id": "8146bd3f",
   "metadata": {},
   "outputs": [],
   "source": [
    "groups = dp.groupby('Sector')\n",
    "#Removing Sector wise above PER outliers:\n",
    "filtered_df = groups.apply(lambda x: x[x['Price_Earnings_Ratio']<= Quartile75(x['Price_Earnings_Ratio'])+1.5*Interquartilerange(x['Price_Earnings_Ratio'])])\n",
    "len(filtered_df)\n",
    "\n",
    "#Removing sector wise below PER outliers:\n",
    "filtered_df=filtered_df.reset_index(drop=True)\n",
    "filtered_df\n",
    "groups = filtered_df.groupby('Sector')\n",
    "filtered_df = groups.apply(lambda x: x[x['Price_Earnings_Ratio']>= Quartile25(x['Price_Earnings_Ratio'])-1.5*Interquartilerange(x['Price_Earnings_Ratio'])])\n",
    "\n",
    "\n",
    "\n",
    "\n",
    "\n",
    "\n",
    "\n",
    "\n",
    "\n",
    "\n",
    "\n",
    "\n",
    "\n",
    "\n",
    "#Same operation for Price Book Ratio(BV):\n",
    "filtered_df=filtered_df.reset_index(drop=True)\n",
    "groups = filtered_df.groupby('Sector')\n",
    "filtered_df = groups.apply(lambda x: x[x['Price_Book_Ratio']>= Quartile25(x['Price_Book_Ratio'])-1.5*Interquartilerange(x['Price_Book_Ratio'])])\n",
    "\n",
    "filtered_df=filtered_df.reset_index(drop=True)\n",
    "filtered_df\n",
    "groups = filtered_df.groupby('Sector')\n",
    "filtered_df = groups.apply(lambda x: x[x['Price_Book_Ratio']<= Quartile75(x['Price_Book_Ratio'])+1.5*Interquartilerange(x['Price_Book_Ratio'])])\n",
    "\n",
    "filtered_df=filtered_df.reset_index(drop=True)\n",
    "\n",
    "# print(len(dp)-len(filtered_df))"
   ]
  },
  {
   "cell_type": "markdown",
   "id": "b27dc145",
   "metadata": {},
   "source": [
    "Through the process, my algorithms identified and removed 89 companies, which were considered extreme outliers with regards to the data. "
   ]
  },
  {
   "cell_type": "markdown",
   "id": "923320b2",
   "metadata": {},
   "source": [
    "# Task 1.1:"
   ]
  },
  {
   "cell_type": "markdown",
   "id": "f61e1f8c",
   "metadata": {},
   "source": [
    "It was decided to observe the changes in the descriptive statistics of the data.  "
   ]
  },
  {
   "cell_type": "code",
   "execution_count": 12,
   "id": "439fc99d",
   "metadata": {},
   "outputs": [
    {
     "data": {
      "text/html": [
       "<div>\n",
       "<style scoped>\n",
       "    .dataframe tbody tr th:only-of-type {\n",
       "        vertical-align: middle;\n",
       "    }\n",
       "\n",
       "    .dataframe tbody tr th {\n",
       "        vertical-align: top;\n",
       "    }\n",
       "\n",
       "    .dataframe thead th {\n",
       "        text-align: right;\n",
       "    }\n",
       "</style>\n",
       "<table border=\"1\" class=\"dataframe\">\n",
       "  <thead>\n",
       "    <tr style=\"text-align: right;\">\n",
       "      <th></th>\n",
       "      <th>Price</th>\n",
       "      <th>Price_Earnings_Ratio</th>\n",
       "      <th>Dividend_Yield</th>\n",
       "      <th>Earnings_Share_Ratio</th>\n",
       "      <th>Market_Cap</th>\n",
       "      <th>Price_Sales_Ratio</th>\n",
       "      <th>Price_Book_Ratio</th>\n",
       "    </tr>\n",
       "  </thead>\n",
       "  <tbody>\n",
       "    <tr>\n",
       "      <th>Mean</th>\n",
       "      <td>95.43</td>\n",
       "      <td>20.06</td>\n",
       "      <td>2.00</td>\n",
       "      <td>3.80</td>\n",
       "      <td>4.854133e+10</td>\n",
       "      <td>3.61</td>\n",
       "      <td>3.94</td>\n",
       "    </tr>\n",
       "    <tr>\n",
       "      <th>StDeviation</th>\n",
       "      <td>122.81</td>\n",
       "      <td>9.76</td>\n",
       "      <td>1.56</td>\n",
       "      <td>5.19</td>\n",
       "      <td>9.132919e+10</td>\n",
       "      <td>3.05</td>\n",
       "      <td>2.78</td>\n",
       "    </tr>\n",
       "    <tr>\n",
       "      <th>Median</th>\n",
       "      <td>70.44</td>\n",
       "      <td>18.76</td>\n",
       "      <td>1.88</td>\n",
       "      <td>2.92</td>\n",
       "      <td>2.093459e+10</td>\n",
       "      <td>2.79</td>\n",
       "      <td>3.09</td>\n",
       "    </tr>\n",
       "    <tr>\n",
       "      <th>Quartile25</th>\n",
       "      <td>44.21</td>\n",
       "      <td>15.03</td>\n",
       "      <td>0.94</td>\n",
       "      <td>1.65</td>\n",
       "      <td>1.246911e+10</td>\n",
       "      <td>1.57</td>\n",
       "      <td>1.95</td>\n",
       "    </tr>\n",
       "    <tr>\n",
       "      <th>Quartile75</th>\n",
       "      <td>110.42</td>\n",
       "      <td>23.50</td>\n",
       "      <td>2.90</td>\n",
       "      <td>5.09</td>\n",
       "      <td>4.403040e+10</td>\n",
       "      <td>4.44</td>\n",
       "      <td>5.14</td>\n",
       "    </tr>\n",
       "    <tr>\n",
       "      <th>Interquartilerange</th>\n",
       "      <td>66.21</td>\n",
       "      <td>8.47</td>\n",
       "      <td>1.96</td>\n",
       "      <td>3.44</td>\n",
       "      <td>3.156128e+10</td>\n",
       "      <td>2.87</td>\n",
       "      <td>3.20</td>\n",
       "    </tr>\n",
       "  </tbody>\n",
       "</table>\n",
       "</div>"
      ],
      "text/plain": [
       "                     Price  Price_Earnings_Ratio  Dividend_Yield  \\\n",
       "Mean                 95.43                 20.06            2.00   \n",
       "StDeviation         122.81                  9.76            1.56   \n",
       "Median               70.44                 18.76            1.88   \n",
       "Quartile25           44.21                 15.03            0.94   \n",
       "Quartile75          110.42                 23.50            2.90   \n",
       "Interquartilerange   66.21                  8.47            1.96   \n",
       "\n",
       "                    Earnings_Share_Ratio    Market_Cap  Price_Sales_Ratio  \\\n",
       "Mean                                3.80  4.854133e+10               3.61   \n",
       "StDeviation                         5.19  9.132919e+10               3.05   \n",
       "Median                              2.92  2.093459e+10               2.79   \n",
       "Quartile25                          1.65  1.246911e+10               1.57   \n",
       "Quartile75                          5.09  4.403040e+10               4.44   \n",
       "Interquartilerange                  3.44  3.156128e+10               2.87   \n",
       "\n",
       "                    Price_Book_Ratio  \n",
       "Mean                            3.94  \n",
       "StDeviation                     2.78  \n",
       "Median                          3.09  \n",
       "Quartile25                      1.95  \n",
       "Quartile75                      5.14  \n",
       "Interquartilerange              3.20  "
      ]
     },
     "execution_count": 12,
     "metadata": {},
     "output_type": "execute_result"
    }
   ],
   "source": [
    "filtered_df.agg([Mean,StDeviation,Median,Quartile25,Quartile75,Interquartilerange]).round(2)"
   ]
  },
  {
   "cell_type": "markdown",
   "id": "511d6dd0",
   "metadata": {},
   "source": [
    "From the table it is evident that we have managed to significantly reduce PER and BV StDeviation. This effect can further be observed in the grouped boxplots. "
   ]
  },
  {
   "cell_type": "markdown",
   "id": "c4a7679a",
   "metadata": {},
   "source": [
    "# Task 2.1:"
   ]
  },
  {
   "cell_type": "code",
   "execution_count": 13,
   "id": "7e102018",
   "metadata": {},
   "outputs": [
    {
     "data": {
      "text/plain": [
       "[Text(0.5, 0, 'Ratio'),\n",
       " Text(0, 0.5, ''),\n",
       " Text(0.5, 1.0, 'S&P 500 PSR and PBR Boxplot')]"
      ]
     },
     "execution_count": 13,
     "metadata": {},
     "output_type": "execute_result"
    },
    {
     "data": {
      "image/png": "[encoded data removed]",
      "text/plain": [
       "<Figure size 432x288 with 1 Axes>"
      ]
     },
     "metadata": {
      "needs_background": "light"
     },
     "output_type": "display_data"
    }
   ],
   "source": [
    "table = filtered_df\n",
    "table = pd.concat([table.Price_Book_Ratio, table.Price_Sales_Ratio], axis=0)\n",
    "table.index=range(table.shape[0])\n",
    "\n",
    "table = pd.DataFrame(table)\n",
    "table['name']= ''\n",
    "\n",
    "table.loc[:table.shape[0]//2,'name']='Price_Sales_Ratio'\n",
    "table.loc[table.shape[0]//2:,'name']='Price_Book_Ratio'\n",
    "\n",
    "\n",
    "# table.loc[:table.shape[0]//2]\n",
    "table\n",
    "sns.boxplot(data = table, x=0, y='name', orient='h').set(\n",
    "    xlabel='Ratio',\n",
    "    ylabel='',\n",
    "    title='S&P 500 PSR and PBR Boxplot')"
   ]
  },
  {
   "cell_type": "code",
   "execution_count": 14,
   "id": "c6cea427",
   "metadata": {},
   "outputs": [
    {
     "data": {
      "text/plain": [
       "[Text(0.5, 0, 'Ratio'),\n",
       " Text(0, 0.5, ''),\n",
       " Text(0.5, 1.0, 'S&P 500 PER and ESR Boxplot')]"
      ]
     },
     "execution_count": 14,
     "metadata": {},
     "output_type": "execute_result"
    },
    {
     "data": {
      "image/png": "[encoded data removed]",
      "text/plain": [
       "<Figure size 432x288 with 1 Axes>"
      ]
     },
     "metadata": {
      "needs_background": "light"
     },
     "output_type": "display_data"
    }
   ],
   "source": [
    "table = filtered_df\n",
    "table = pd.concat([table.Price_Earnings_Ratio,table.Earnings_Share_Ratio], axis=0)\n",
    "table.index=range(table.shape[0])\n",
    "\n",
    "table = pd.DataFrame(table)\n",
    "table['name']= ''\n",
    "\n",
    "table.loc[:table.shape[0]//2,'name']='Price_Earnings_Ratio'\n",
    "table.loc[table.shape[0]//2:,'name']='Earnings_Share_Ratio'\n",
    "\n",
    "# table.loc[:table.shape[0]//2]\n",
    "table\n",
    "sns.boxplot(data = table, x=0, y='name', orient='h').set(\n",
    "    xlabel='Ratio',\n",
    "    ylabel='',\n",
    "    title='S&P 500 PER and ESR Boxplot')"
   ]
  },
  {
   "cell_type": "markdown",
   "id": "f0cec4c0",
   "metadata": {},
   "source": [
    "Conclusions: \n",
    "By the grouped boxplots, an observation was made that PER behaves similarly to ESR(Earnings_Share_Ratio), on the other hand, BV has similar distribution to PSR(Price_Sales_Ratio). This confirms the applicability of just PER and BV for the choice of a stock portfolio. Furthermore, due to the decreased stndard deviation, more graphical methods such as the hstogram have become available for the analysis of the data. "
   ]
  },
  {
   "cell_type": "markdown",
   "id": "b8258095",
   "metadata": {},
   "source": [
    "# Task 3, part 1:"
   ]
  },
  {
   "cell_type": "markdown",
   "id": "5f26a62b",
   "metadata": {},
   "source": [
    "For task 3, my project will try to make two comparisons: Sector & Dsitribution of PER & BV and Sector & Market Cap. The project will address the following questions: \n",
    "\n",
    "- What is the correlation between Total Market Capitalization of a sector and Sector Size(number of companies present in the sector)? \n",
    "\n",
    "- What is the distribution of PER and BV within each sector? Is there a sector-wise variation, or is the behaviour similar between the two variables ? \n",
    "\n",
    "Part 1, was the attempt to answer these questions with unfiltered data:"
   ]
  },
  {
   "cell_type": "code",
   "execution_count": 15,
   "id": "f517a082",
   "metadata": {},
   "outputs": [
    {
     "name": "stderr",
     "output_type": "stream",
     "text": [
      "<ipython-input-15-1c4f487666d3>:3: SettingWithCopyWarning: \n",
      "A value is trying to be set on a copy of a slice from a DataFrame.\n",
      "Try using .loc[row_indexer,col_indexer] = value instead\n",
      "\n",
      "See the caveats in the documentation: https://pandas.pydata.org/pandas-docs/stable/user_guide/indexing.html#returning-a-view-versus-a-copy\n",
      "  dp3[\"Range\"]=pd.cut(dp3.Price_Earnings_Ratio,range(int(dp3.Price_Earnings_Ratio.min()),int(dp3.Price_Earnings_Ratio.max()),2))\n",
      "<ipython-input-15-1c4f487666d3>:4: SettingWithCopyWarning: \n",
      "A value is trying to be set on a copy of a slice from a DataFrame.\n",
      "Try using .loc[row_indexer,col_indexer] = value instead\n",
      "\n",
      "See the caveats in the documentation: https://pandas.pydata.org/pandas-docs/stable/user_guide/indexing.html#returning-a-view-versus-a-copy\n",
      "  dp3[\"Count\"]=1\n"
     ]
    }
   ],
   "source": [
    "'''Activate the cells below with caution /take a long time to execute/'''\n",
    "dp3 = dp[['Sector','Price_Earnings_Ratio']]\n",
    "dp3[\"Range\"]=pd.cut(dp3.Price_Earnings_Ratio,range(int(dp3.Price_Earnings_Ratio.min()),int(dp3.Price_Earnings_Ratio.max()),2))\n",
    "dp3[\"Count\"]=1\n",
    "dp4 = dp3.drop('Price_Earnings_Ratio',1).groupby([\"Sector\",\"Range\"],\n",
    "                                                 as_index=False).sum()"
   ]
  },
  {
   "cell_type": "code",
   "execution_count": 16,
   "id": "8b893dfd",
   "metadata": {},
   "outputs": [
    {
     "name": "stderr",
     "output_type": "stream",
     "text": [
      "<ipython-input-16-2e9e0853feeb>:2: SettingWithCopyWarning: \n",
      "A value is trying to be set on a copy of a slice from a DataFrame.\n",
      "Try using .loc[row_indexer,col_indexer] = value instead\n",
      "\n",
      "See the caveats in the documentation: https://pandas.pydata.org/pandas-docs/stable/user_guide/indexing.html#returning-a-view-versus-a-copy\n",
      "  dp3[\"Range\"]=pd.cut(dp3.Price_Earnings_Ratio,range(int(dp3.Price_Earnings_Ratio.min()),int(dp3.Price_Earnings_Ratio.max()),2))\n",
      "<ipython-input-16-2e9e0853feeb>:3: SettingWithCopyWarning: \n",
      "A value is trying to be set on a copy of a slice from a DataFrame.\n",
      "Try using .loc[row_indexer,col_indexer] = value instead\n",
      "\n",
      "See the caveats in the documentation: https://pandas.pydata.org/pandas-docs/stable/user_guide/indexing.html#returning-a-view-versus-a-copy\n",
      "  dp3[\"Count\"]=1\n"
     ]
    }
   ],
   "source": [
    "dp3 = dp[['Sector','Price_Earnings_Ratio']]\n",
    "dp3[\"Range\"]=pd.cut(dp3.Price_Earnings_Ratio,range(int(dp3.Price_Earnings_Ratio.min()),int(dp3.Price_Earnings_Ratio.max()),2))\n",
    "dp3[\"Count\"]=1\n",
    "dp4 = dp3.drop('Price_Earnings_Ratio',1).groupby([\"Sector\",\"Range\"],as_index=False).count()"
   ]
  },
  {
   "cell_type": "code",
   "execution_count": 17,
   "id": "d86a5b6e",
   "metadata": {},
   "outputs": [
    {
     "data": {
      "text/plain": [
       "Text(0.5, 0.98, 'PER Distribution by Sector (combined)')"
      ]
     },
     "execution_count": 17,
     "metadata": {},
     "output_type": "execute_result"
    },
    {
     "data": {
      "image/png": "[encoded data removed]",
      "text/plain": [
       "<Figure size 537.75x360 with 1 Axes>"
      ]
     },
     "metadata": {
      "needs_background": "light"
     },
     "output_type": "display_data"
    }
   ],
   "source": [
    "sns.catplot(x = \"Range\",      \n",
    "            y = \"Count\",       \n",
    "            hue = \"Sector\",  \n",
    "            data = dp4,\n",
    "            kind = \"bar\").fig.suptitle('PER Distribution by Sector (combined)')"
   ]
  },
  {
   "cell_type": "code",
   "execution_count": 18,
   "id": "81590ec6",
   "metadata": {},
   "outputs": [
    {
     "data": {
      "image/png": "[encoded data removed]",
      "text/plain": [
       "<Figure size 2376x360 with 11 Axes>"
      ]
     },
     "metadata": {
      "needs_background": "light"
     },
     "output_type": "display_data"
    }
   ],
   "source": [
    "g = sns.catplot(y=\"Count\", x=\"Range\", col=\"Sector\",\n",
    "data=dp4, saturation=.5,\n",
    "kind=\"bar\", ci=None, aspect=.6).fig.suptitle('PER Distributions by Sector')"
   ]
  },
  {
   "cell_type": "markdown",
   "id": "916301ab",
   "metadata": {},
   "source": [
    "From the graphs it is visible that the extreme anomaly values present graphs which are difficult to analyse and draw conclusions from. Therefore, it was decided to use the fitlered data for the same purpose."
   ]
  },
  {
   "cell_type": "markdown",
   "id": "ede6d943",
   "metadata": {},
   "source": [
    "# Task 3, part 1.1:"
   ]
  },
  {
   "cell_type": "markdown",
   "id": "1a740f9f",
   "metadata": {},
   "source": [
    "Histogram for all sectors:"
   ]
  },
  {
   "cell_type": "code",
   "execution_count": 19,
   "id": "1dacf5bd",
   "metadata": {},
   "outputs": [
    {
     "data": {
      "text/plain": [
       "Text(0.5, 1.0, 'PER Histogram by Sector (combined)')"
      ]
     },
     "execution_count": 19,
     "metadata": {},
     "output_type": "execute_result"
    },
    {
     "data": {
      "image/png": "[encoded data removed]",
      "text/plain": [
       "<Figure size 432x288 with 1 Axes>"
      ]
     },
     "metadata": {
      "needs_background": "light"
     },
     "output_type": "display_data"
    }
   ],
   "source": [
    "sns.histplot(data=filtered_df, x='Price_Earnings_Ratio', hue='Sector').set_title('PER Histogram by Sector (combined)')"
   ]
  },
  {
   "cell_type": "markdown",
   "id": "9f0e3f46",
   "metadata": {},
   "source": [
    "From the histogram it can be hypothesized that some sectors will follow a  normal disitrbution. Therefore sector-wise histograms will be presented:"
   ]
  },
  {
   "cell_type": "code",
   "execution_count": 20,
   "id": "4638a3de",
   "metadata": {},
   "outputs": [
    {
     "data": {
      "text/plain": [
       "Text(0.5, 0.98, 'PER Distribution by Sector')"
      ]
     },
     "execution_count": 20,
     "metadata": {},
     "output_type": "execute_result"
    },
    {
     "data": {
      "image/png": "[encoded data removed]",
      "text/plain": [
       "<Figure size 2160x360 with 11 Axes>"
      ]
     },
     "metadata": {
      "needs_background": "light"
     },
     "output_type": "display_data"
    }
   ],
   "source": [
    "import random\n",
    "colours = ['green','grey','blue', 'red','purple']\n",
    "\n",
    "fig,axis=plt.subplots(1,11, figsize=(30,5))\n",
    "counter = 0\n",
    "for i in set(filtered_df.Sector):\n",
    "    sns.histplot(ax = axis[counter], data=filtered_df[filtered_df.Sector==i],\n",
    "                 x='Price_Earnings_Ratio', color=random.choice(colours), kde=True, legend=i)\n",
    "    axis[counter].set_title(i)\n",
    "    counter+=1\n",
    "fig.suptitle('PER Distribution by Sector')"
   ]
  },
  {
   "cell_type": "markdown",
   "id": "54eec9cd",
   "metadata": {},
   "source": [
    "As hypothesized, all sectors besides the telecommunications, information technology and consumer staples follow a normal dsitribution. Whereas, the mean value for each sector is slightly different. Therefore, in choosing a stock market portfolio, my project will consider sector-wise PER. "
   ]
  },
  {
   "cell_type": "code",
   "execution_count": 21,
   "id": "79d5eb82",
   "metadata": {},
   "outputs": [
    {
     "data": {
      "text/plain": [
       "Text(0.5, 0.98, 'BV Distribution by Sector')"
      ]
     },
     "execution_count": 21,
     "metadata": {},
     "output_type": "execute_result"
    },
    {
     "data": {
      "image/png": "[encoded data removed]",
      "text/plain": [
       "<Figure size 2160x360 with 11 Axes>"
      ]
     },
     "metadata": {
      "needs_background": "light"
     },
     "output_type": "display_data"
    }
   ],
   "source": [
    "import random\n",
    "colours = ['green','grey','blue', 'red','purple']\n",
    "\n",
    "fig,axis=plt.subplots(1,11, figsize=(30,5))\n",
    "counter = 0\n",
    "for i in set(filtered_df.Sector):\n",
    "    sns.histplot(ax = axis[counter], data=filtered_df[filtered_df.Sector==i],\n",
    "                 x='Price_Book_Ratio', color=random.choice(colours), kde=True, legend=i)\n",
    "    axis[counter].set_title(i)\n",
    "    counter+=1\n",
    "fig.suptitle('BV Distribution by Sector')"
   ]
  },
  {
   "cell_type": "markdown",
   "id": "d5b46214",
   "metadata": {},
   "source": [
    "Nonetheless, from the BV it is visible that some sectors are skewed towards a higher BV. This suggests that for sectors such as 'Consumer Discretionary', higher BV companies can be considered."
   ]
  },
  {
   "cell_type": "markdown",
   "id": "82853386",
   "metadata": {},
   "source": [
    "# Task 3, part 2:"
   ]
  },
  {
   "cell_type": "markdown",
   "id": "f8ae4f2a",
   "metadata": {},
   "source": [
    "In this part, I will look at correlations between market cap and sector size:"
   ]
  },
  {
   "cell_type": "code",
   "execution_count": 22,
   "id": "b1ea510c",
   "metadata": {},
   "outputs": [],
   "source": [
    "q3p2 = data.Sector.value_counts()"
   ]
  },
  {
   "cell_type": "code",
   "execution_count": 23,
   "id": "3d026395",
   "metadata": {
    "scrolled": true
   },
   "outputs": [
    {
     "name": "stderr",
     "output_type": "stream",
     "text": [
      "<ipython-input-23-19159cb30438>:3: SettingWithCopyWarning: \n",
      "A value is trying to be set on a copy of a slice from a DataFrame.\n",
      "Try using .loc[row_indexer,col_indexer] = value instead\n",
      "\n",
      "See the caveats in the documentation: https://pandas.pydata.org/pandas-docs/stable/user_guide/indexing.html#returning-a-view-versus-a-copy\n",
      "  dq3['intM_C']=dq3.Market_Cap.fillna(dq3.Market_Cap.mean()).apply(lambda x:  round(x))\n"
     ]
    }
   ],
   "source": [
    "q3p2 = data.Sector.value_counts()\n",
    "dq3 = dp[['Sector','Market_Cap']]\n",
    "dq3['intM_C']=dq3.Market_Cap.fillna(dq3.Market_Cap.mean()).apply(lambda x:  round(x))\n",
    "dq3 = dq3.drop('Market_Cap',1).groupby(['Sector'],as_index=True).sum()\n",
    "dq3['ValueCounts']=q3p2"
   ]
  },
  {
   "cell_type": "code",
   "execution_count": 24,
   "id": "c2e04713",
   "metadata": {},
   "outputs": [
    {
     "data": {
      "text/plain": [
       "Text(0.5, 1.0, 'S&P500 Market Capitalization Pie Chart (by sector)')"
      ]
     },
     "execution_count": 24,
     "metadata": {},
     "output_type": "execute_result"
    },
    {
     "data": {
      "image/png": "[encoded data removed]",
      "text/plain": [
       "<Figure size 720x720 with 1 Axes>"
      ]
     },
     "metadata": {},
     "output_type": "display_data"
    }
   ],
   "source": [
    "dq3.plot.pie(y='intM_C',figsize=(10,10)).set_title('S&P500 Market Capitalization Pie Chart (by sector)')"
   ]
  },
  {
   "cell_type": "code",
   "execution_count": 25,
   "id": "969fe960",
   "metadata": {},
   "outputs": [
    {
     "data": {
      "text/plain": [
       "Text(0.5, 1.0, 'S&P500 Number of Companies Pie Chart (by sector)')"
      ]
     },
     "execution_count": 25,
     "metadata": {},
     "output_type": "execute_result"
    },
    {
     "data": {
      "image/png": "[encoded data removed]",
      "text/plain": [
       "<Figure size 720x720 with 1 Axes>"
      ]
     },
     "metadata": {},
     "output_type": "display_data"
    }
   ],
   "source": [
    "dq3.plot.pie(y='ValueCounts',figsize=(10,10)).set_title('S&P500 Number of Companies Pie Chart (by sector)')"
   ]
  },
  {
   "cell_type": "markdown",
   "id": "4ffb9a8e",
   "metadata": {},
   "source": [
    "At first glance, there seems to be very little differences between the two pie charts. The most significant difference is for Information Technology sector. Its market is significantly larger than the proportion of companeis present in the sector, this shows how much the U.S economy relies on IT based companies."
   ]
  },
  {
   "cell_type": "code",
   "execution_count": 26,
   "id": "f75694b6",
   "metadata": {
    "scrolled": true
   },
   "outputs": [],
   "source": [
    "dq3['MeanPrice']=filtered_df.groupby('Sector').Price.mean().apply(lambda x:  round(x))"
   ]
  },
  {
   "cell_type": "markdown",
   "id": "f38b8907",
   "metadata": {},
   "source": [
    "It was decided to further investigate the correlation between variables."
   ]
  },
  {
   "cell_type": "code",
   "execution_count": 27,
   "id": "b34957c5",
   "metadata": {},
   "outputs": [
    {
     "data": {
      "text/html": [
       "<div>\n",
       "<style scoped>\n",
       "    .dataframe tbody tr th:only-of-type {\n",
       "        vertical-align: middle;\n",
       "    }\n",
       "\n",
       "    .dataframe tbody tr th {\n",
       "        vertical-align: top;\n",
       "    }\n",
       "\n",
       "    .dataframe thead th {\n",
       "        text-align: right;\n",
       "    }\n",
       "</style>\n",
       "<table border=\"1\" class=\"dataframe\">\n",
       "  <thead>\n",
       "    <tr style=\"text-align: right;\">\n",
       "      <th></th>\n",
       "      <th>intM_C</th>\n",
       "      <th>ValueCounts</th>\n",
       "      <th>MeanPrice</th>\n",
       "    </tr>\n",
       "  </thead>\n",
       "  <tbody>\n",
       "    <tr>\n",
       "      <th>intM_C</th>\n",
       "      <td>1.000000</td>\n",
       "      <td>0.772564</td>\n",
       "      <td>0.686440</td>\n",
       "    </tr>\n",
       "    <tr>\n",
       "      <th>ValueCounts</th>\n",
       "      <td>0.772564</td>\n",
       "      <td>1.000000</td>\n",
       "      <td>0.795316</td>\n",
       "    </tr>\n",
       "    <tr>\n",
       "      <th>MeanPrice</th>\n",
       "      <td>0.686440</td>\n",
       "      <td>0.795316</td>\n",
       "      <td>1.000000</td>\n",
       "    </tr>\n",
       "  </tbody>\n",
       "</table>\n",
       "</div>"
      ],
      "text/plain": [
       "               intM_C  ValueCounts  MeanPrice\n",
       "intM_C       1.000000     0.772564   0.686440\n",
       "ValueCounts  0.772564     1.000000   0.795316\n",
       "MeanPrice    0.686440     0.795316   1.000000"
      ]
     },
     "execution_count": 27,
     "metadata": {},
     "output_type": "execute_result"
    }
   ],
   "source": [
    "dq3.corr()"
   ]
  },
  {
   "cell_type": "markdown",
   "id": "1c364f5d",
   "metadata": {},
   "source": [
    "The correlation coefficients show that there is not a perfectly linear trend between market cap and number of companies. However, an interesting correlation was draw from sector size and the Mean Price of the sector. Which suggests that large sectors attract more investments, driving up the price. "
   ]
  },
  {
   "cell_type": "markdown",
   "id": "18cec310",
   "metadata": {},
   "source": [
    "I will now attempt to connect all the variables and draw some trends:"
   ]
  },
  {
   "cell_type": "code",
   "execution_count": 28,
   "id": "51d51c85",
   "metadata": {},
   "outputs": [],
   "source": [
    "dq3['MeanPER']=filtered_df.groupby('Sector').Price_Earnings_Ratio.mean().apply(lambda x:  round(x))\n",
    "dq3['MeanBV']=filtered_df.groupby('Sector').Price_Book_Ratio.mean().apply(lambda x:  round(x))"
   ]
  },
  {
   "cell_type": "code",
   "execution_count": 29,
   "id": "e942754e",
   "metadata": {},
   "outputs": [
    {
     "data": {
      "text/html": [
       "<div>\n",
       "<style scoped>\n",
       "    .dataframe tbody tr th:only-of-type {\n",
       "        vertical-align: middle;\n",
       "    }\n",
       "\n",
       "    .dataframe tbody tr th {\n",
       "        vertical-align: top;\n",
       "    }\n",
       "\n",
       "    .dataframe thead th {\n",
       "        text-align: right;\n",
       "    }\n",
       "</style>\n",
       "<table border=\"1\" class=\"dataframe\">\n",
       "  <thead>\n",
       "    <tr style=\"text-align: right;\">\n",
       "      <th></th>\n",
       "      <th>intM_C</th>\n",
       "      <th>ValueCounts</th>\n",
       "      <th>MeanPrice</th>\n",
       "      <th>MeanPER</th>\n",
       "      <th>MeanBV</th>\n",
       "    </tr>\n",
       "    <tr>\n",
       "      <th>Sector</th>\n",
       "      <th></th>\n",
       "      <th></th>\n",
       "      <th></th>\n",
       "      <th></th>\n",
       "      <th></th>\n",
       "    </tr>\n",
       "  </thead>\n",
       "  <tbody>\n",
       "    <tr>\n",
       "      <th>Consumer Discretionary</th>\n",
       "      <td>3213562747315</td>\n",
       "      <td>84</td>\n",
       "      <td>98</td>\n",
       "      <td>18</td>\n",
       "      <td>4</td>\n",
       "    </tr>\n",
       "    <tr>\n",
       "      <th>Consumer Staples</th>\n",
       "      <td>2087076388082</td>\n",
       "      <td>34</td>\n",
       "      <td>74</td>\n",
       "      <td>20</td>\n",
       "      <td>5</td>\n",
       "    </tr>\n",
       "    <tr>\n",
       "      <th>Energy</th>\n",
       "      <td>1357313712749</td>\n",
       "      <td>32</td>\n",
       "      <td>56</td>\n",
       "      <td>32</td>\n",
       "      <td>2</td>\n",
       "    </tr>\n",
       "    <tr>\n",
       "      <th>Financials</th>\n",
       "      <td>3442649464852</td>\n",
       "      <td>68</td>\n",
       "      <td>87</td>\n",
       "      <td>16</td>\n",
       "      <td>2</td>\n",
       "    </tr>\n",
       "    <tr>\n",
       "      <th>Health Care</th>\n",
       "      <td>3244359043367</td>\n",
       "      <td>61</td>\n",
       "      <td>119</td>\n",
       "      <td>19</td>\n",
       "      <td>4</td>\n",
       "    </tr>\n",
       "    <tr>\n",
       "      <th>Industrials</th>\n",
       "      <td>2411541173034</td>\n",
       "      <td>67</td>\n",
       "      <td>110</td>\n",
       "      <td>22</td>\n",
       "      <td>5</td>\n",
       "    </tr>\n",
       "    <tr>\n",
       "      <th>Information Technology</th>\n",
       "      <td>6727121800912</td>\n",
       "      <td>70</td>\n",
       "      <td>117</td>\n",
       "      <td>23</td>\n",
       "      <td>6</td>\n",
       "    </tr>\n",
       "    <tr>\n",
       "      <th>Materials</th>\n",
       "      <td>692300259151</td>\n",
       "      <td>25</td>\n",
       "      <td>93</td>\n",
       "      <td>22</td>\n",
       "      <td>5</td>\n",
       "    </tr>\n",
       "    <tr>\n",
       "      <th>Real Estate</th>\n",
       "      <td>625315677562</td>\n",
       "      <td>33</td>\n",
       "      <td>84</td>\n",
       "      <td>16</td>\n",
       "      <td>3</td>\n",
       "    </tr>\n",
       "    <tr>\n",
       "      <th>Telecommunication Services</th>\n",
       "      <td>453042743905</td>\n",
       "      <td>3</td>\n",
       "      <td>34</td>\n",
       "      <td>11</td>\n",
       "      <td>4</td>\n",
       "    </tr>\n",
       "    <tr>\n",
       "      <th>Utilities</th>\n",
       "      <td>611632638471</td>\n",
       "      <td>28</td>\n",
       "      <td>58</td>\n",
       "      <td>17</td>\n",
       "      <td>2</td>\n",
       "    </tr>\n",
       "  </tbody>\n",
       "</table>\n",
       "</div>"
      ],
      "text/plain": [
       "                                   intM_C  ValueCounts  MeanPrice  MeanPER  \\\n",
       "Sector                                                                       \n",
       "Consumer Discretionary      3213562747315           84         98       18   \n",
       "Consumer Staples            2087076388082           34         74       20   \n",
       "Energy                      1357313712749           32         56       32   \n",
       "Financials                  3442649464852           68         87       16   \n",
       "Health Care                 3244359043367           61        119       19   \n",
       "Industrials                 2411541173034           67        110       22   \n",
       "Information Technology      6727121800912           70        117       23   \n",
       "Materials                    692300259151           25         93       22   \n",
       "Real Estate                  625315677562           33         84       16   \n",
       "Telecommunication Services   453042743905            3         34       11   \n",
       "Utilities                    611632638471           28         58       17   \n",
       "\n",
       "                            MeanBV  \n",
       "Sector                              \n",
       "Consumer Discretionary           4  \n",
       "Consumer Staples                 5  \n",
       "Energy                           2  \n",
       "Financials                       2  \n",
       "Health Care                      4  \n",
       "Industrials                      5  \n",
       "Information Technology           6  \n",
       "Materials                        5  \n",
       "Real Estate                      3  \n",
       "Telecommunication Services       4  \n",
       "Utilities                        2  "
      ]
     },
     "execution_count": 29,
     "metadata": {},
     "output_type": "execute_result"
    }
   ],
   "source": [
    "dq3"
   ]
  },
  {
   "cell_type": "code",
   "execution_count": 30,
   "id": "740973bb",
   "metadata": {},
   "outputs": [
    {
     "data": {
      "text/html": [
       "<div>\n",
       "<style scoped>\n",
       "    .dataframe tbody tr th:only-of-type {\n",
       "        vertical-align: middle;\n",
       "    }\n",
       "\n",
       "    .dataframe tbody tr th {\n",
       "        vertical-align: top;\n",
       "    }\n",
       "\n",
       "    .dataframe thead th {\n",
       "        text-align: right;\n",
       "    }\n",
       "</style>\n",
       "<table border=\"1\" class=\"dataframe\">\n",
       "  <thead>\n",
       "    <tr style=\"text-align: right;\">\n",
       "      <th></th>\n",
       "      <th>intM_C</th>\n",
       "      <th>ValueCounts</th>\n",
       "      <th>MeanPrice</th>\n",
       "      <th>MeanPER</th>\n",
       "      <th>MeanBV</th>\n",
       "    </tr>\n",
       "  </thead>\n",
       "  <tbody>\n",
       "    <tr>\n",
       "      <th>intM_C</th>\n",
       "      <td>1.000000</td>\n",
       "      <td>0.772564</td>\n",
       "      <td>0.686440</td>\n",
       "      <td>0.197747</td>\n",
       "      <td>0.445624</td>\n",
       "    </tr>\n",
       "    <tr>\n",
       "      <th>ValueCounts</th>\n",
       "      <td>0.772564</td>\n",
       "      <td>1.000000</td>\n",
       "      <td>0.795316</td>\n",
       "      <td>0.162072</td>\n",
       "      <td>0.195770</td>\n",
       "    </tr>\n",
       "    <tr>\n",
       "      <th>MeanPrice</th>\n",
       "      <td>0.686440</td>\n",
       "      <td>0.795316</td>\n",
       "      <td>1.000000</td>\n",
       "      <td>0.198809</td>\n",
       "      <td>0.511496</td>\n",
       "    </tr>\n",
       "    <tr>\n",
       "      <th>MeanPER</th>\n",
       "      <td>0.197747</td>\n",
       "      <td>0.162072</td>\n",
       "      <td>0.198809</td>\n",
       "      <td>1.000000</td>\n",
       "      <td>0.043630</td>\n",
       "    </tr>\n",
       "    <tr>\n",
       "      <th>MeanBV</th>\n",
       "      <td>0.445624</td>\n",
       "      <td>0.195770</td>\n",
       "      <td>0.511496</td>\n",
       "      <td>0.043630</td>\n",
       "      <td>1.000000</td>\n",
       "    </tr>\n",
       "  </tbody>\n",
       "</table>\n",
       "</div>"
      ],
      "text/plain": [
       "               intM_C  ValueCounts  MeanPrice   MeanPER    MeanBV\n",
       "intM_C       1.000000     0.772564   0.686440  0.197747  0.445624\n",
       "ValueCounts  0.772564     1.000000   0.795316  0.162072  0.195770\n",
       "MeanPrice    0.686440     0.795316   1.000000  0.198809  0.511496\n",
       "MeanPER      0.197747     0.162072   0.198809  1.000000  0.043630\n",
       "MeanBV       0.445624     0.195770   0.511496  0.043630  1.000000"
      ]
     },
     "execution_count": 30,
     "metadata": {},
     "output_type": "execute_result"
    }
   ],
   "source": [
    "dq3.corr()"
   ]
  },
  {
   "cell_type": "code",
   "execution_count": 31,
   "id": "beb6ee6b",
   "metadata": {},
   "outputs": [
    {
     "data": {
      "text/plain": [
       "Text(0.5, 0.98, 'S&P 500 Cluster Map')"
      ]
     },
     "execution_count": 31,
     "metadata": {},
     "output_type": "execute_result"
    },
    {
     "data": {
      "image/png": "[encoded data removed]",
      "text/plain": [
       "<Figure size 720x720 with 4 Axes>"
      ]
     },
     "metadata": {
      "needs_background": "light"
     },
     "output_type": "display_data"
    }
   ],
   "source": [
    "sns.clustermap(dq3, cmap=\"mako\", vmin=0, vmax=10).fig.suptitle('S&P 500 Cluster Map')"
   ]
  },
  {
   "cell_type": "markdown",
   "id": "8885dfe5",
   "metadata": {},
   "source": [
    "Cluster map shows a connection between 'Materials' and 'Real Estate', which is a possible correlation. Another possible connection is between the industrial sector and the consumer staples, because the industrial sector usually produces products for the consumer staples sector. A more questionable relationship with no direct connect is between the 'Financial' and the 'Consumer Discretionary' sectors."
   ]
  },
  {
   "cell_type": "markdown",
   "id": "6d73e16f",
   "metadata": {},
   "source": [
    "# Part 4:"
   ]
  },
  {
   "cell_type": "markdown",
   "id": "7c09c986",
   "metadata": {},
   "source": [
    "In conclusion, my data analysis has provided a lot of key information about the S&P 500 companies. The main findings have been outlined as text throughout the project. In the final part of my report, this information will be summed up and analysed. Furthermore, important conclusions will be drawn on the technique to choose a stock portfolio. \n",
    "In conclusion, my data analysis has provided a lot of key information about the S&P 500 companies. The main findings have been outlined as text throughout the project. In the final part of my report, this information will be summed up and analysed. Furthermore, important conclusions will be drawn on the technique to choose a stock portfolio. \n",
    "\n",
    "First and foremost, during Task 1, the descriptive statistics showed extreme-value anomalies within the data. The boxplots plotted further emphasized this trend within the data. Thereby, it was decided to create a filter(based on the IQR), through which my project removed 89 companies from the 504 data points. After passing on the data through the filter algorithms, the standard deviation was significantly reduced. The boxplots produced after data filtration process demonstrated that for all 4 parameters (BV, PER, EPR and PSR) the boxplots illustrated the information more adequetly. This suggests that the anomalous companies were anomalies for all (or most) of the parameters. This suggests a key insight about the data, when a companies is an outlier for one of the parameters, it is likely to be an outlier for all of its financial information. Furthermore, after filtration it was observed that the boxplot for BV has similar distribution to the boxplot for PSR, (and vice versa for the other two parameters) this allowed us to for two grouped boxplot representation. The similarity has also allowed the project to consider only one parameter from each group namely: BV & PER. \n",
    "\n",
    "During task 3(part 1) my project addressed the sector-wise variation within the data. The histograms plotted using seaborn module illustrated that indeed, there is a difference in the distribution for PER and BV depending on the sector in question. For PER most sectors follow a normal distribution and the mean PER varies slightly within each sector. On the other hand, sectors such as 'Telecommunications Services(TS)' and 'Information Technology(IT)' did not quite follow with the trend. However, an explanation can be drawn from Task 3, part 2. One of the reasons for which TS did not follow the trend could be that the sector only has 3 companies within itself. Thereby, due to such a small population within the sector, the trend did not properly form. My project will neglect this sector for the portfolio choosing, as no trend was drawn. Regarding the IT sector, more in depth analysis was required, which was fortunately provided by Task 2, part 3. In the pie chart it was clear that IT cumulative market cap is significantly larger than the number of companies present in the sector. This suggests that there are some very large companies present in the sector. Which could be an explanation for the skew in PER ratio. With respect to BV, the data showed that generally in each sector there is a skew due to the presence of some companies with higher BV. These trend in PER and BV will be kept in mind during the choosing of my portfolio. \n",
    "\n",
    "At the same time, during task 3(part 2) my project was initially addressing the behaviour of market cap with respect to sector size. However, due to important correlation findings this question was further developed to look for overall trends in the data. The results of this study can be considered 'questionable' or 'interesting' (depends how you look at the situation xD). At first, after plotting two pie charts (of data that you would usually expect to have linear correlation) my project has discovered that the IT sector takes up a larger proportion of the pie chart than in the sector-size pie chart. This demonstrates that the U.S economy relies heavily on its IT companies. Furthermore, after measuring the correlation it was discovered that the correlation is not perfectly linear, an unexpected result. This led the project onto a study of how mean price, PER, BV and other parameters correlate with the initial results. The cluster map produced as a result demonstrated on the one hand 'common sense' relationships within the data (like the similarity of the 'Materials', 'Real Estate' and 'Energy' sector), on the other a questionable relationship was posed between the 'Financial' and 'Consumer Discretionary' sectors. With my existing knowledge I do not see how these two sectors can be related to each other, therefore it is difficult to draw any conclusions from the cluster map. I will not use the results from this study in choosing the stock-market portfolio. \n",
    "\n",
    "Overall, I believe that some important conclusions can be drawn from the project, and the data analysis. most importantly, is that I successfully implemented Pandas library, Seaborn Library and Matplotlib in the successful data analysis methods. As a cherry on the pie I will do an extra task 5*, and complete the project by generating a stock market portfolio! "
   ]
  },
  {
   "cell_type": "markdown",
   "id": "794b27af",
   "metadata": {},
   "source": [
    "# Task 6*:"
   ]
  },
  {
   "cell_type": "markdown",
   "id": "635f5c9b",
   "metadata": {},
   "source": [
    "For the choosing of the stock market porfolio I will consider companies from all sectors excluding the IT and TS. I will generate a list of companies in each sector that is 0.005 standard deviation or less away from the mean, for the PER value. on the other hand due to the skewness of the data in BV, I will consider companies that are 0.005 s.d below the mean and 0.01 s.d above the mean. "
   ]
  },
  {
   "cell_type": "markdown",
   "id": "083d71cf",
   "metadata": {},
   "source": [
    "Filtration for PER and BV:"
   ]
  },
  {
   "cell_type": "code",
   "execution_count": 32,
   "id": "a73e6939",
   "metadata": {},
   "outputs": [],
   "source": [
    "filtered_df_123=filtered_df.reset_index(drop=True)\n",
    "\n",
    "groups = filtered_df_123.groupby('Sector')\n",
    "filtered_df_123 = groups.apply(lambda x: x[x['Price_Book_Ratio']>= Mean(x['Price_Book_Ratio']-0.005*StDeviation(x['Price_Book_Ratio']))])\n",
    "\n",
    "filtered_df_123=filtered_df_123.reset_index(drop=True)\n",
    "groups = filtered_df_123.groupby('Sector')\n",
    "filtered_df_123 = groups.apply(lambda x: x[x['Price_Book_Ratio']<= Mean(x['Price_Book_Ratio']+0.01*StDeviation(x['Price_Book_Ratio']))])"
   ]
  },
  {
   "cell_type": "code",
   "execution_count": 33,
   "id": "3234ae59",
   "metadata": {},
   "outputs": [],
   "source": [
    "filtered_df_1234=filtered_df_123.reset_index(drop=True)\n",
    "\n",
    "groups = filtered_df_1234.groupby('Sector')\n",
    "filtered_df_1234 = groups.apply(lambda x: x[x['Price_Earnings_Ratio']>= Mean(x['Price_Earnings_Ratio']-0.005*StDeviation(x['Price_Earnings_Ratio']))])\n",
    "\n",
    "filtered_df_1234=filtered_df_1234.reset_index(drop=True)\n",
    "groups = filtered_df_1234.groupby('Sector')\n",
    "filtered_df_RES = groups.apply(lambda x: x[x['Price_Earnings_Ratio']<= Mean(x['Price_Earnings_Ratio']+0.005*StDeviation(x['Price_Earnings_Ratio']))])\n",
    "filtered_df_RES=filtered_df_RES.reset_index(drop=True)"
   ]
  },
  {
   "cell_type": "code",
   "execution_count": 34,
   "id": "8cac1938",
   "metadata": {},
   "outputs": [
    {
     "data": {
      "text/plain": [
       "34"
      ]
     },
     "execution_count": 34,
     "metadata": {},
     "output_type": "execute_result"
    }
   ],
   "source": [
    "len(filtered_df_RES)"
   ]
  },
  {
   "cell_type": "code",
   "execution_count": 35,
   "id": "491de030",
   "metadata": {},
   "outputs": [
    {
     "data": {
      "text/html": [
       "<div>\n",
       "<style scoped>\n",
       "    .dataframe tbody tr th:only-of-type {\n",
       "        vertical-align: middle;\n",
       "    }\n",
       "\n",
       "    .dataframe tbody tr th {\n",
       "        vertical-align: top;\n",
       "    }\n",
       "\n",
       "    .dataframe thead th {\n",
       "        text-align: right;\n",
       "    }\n",
       "</style>\n",
       "<table border=\"1\" class=\"dataframe\">\n",
       "  <thead>\n",
       "    <tr style=\"text-align: right;\">\n",
       "      <th></th>\n",
       "      <th>Name</th>\n",
       "      <th>Sector</th>\n",
       "      <th>Price</th>\n",
       "      <th>Price_Earnings_Ratio</th>\n",
       "      <th>Dividend_Yield</th>\n",
       "      <th>Earnings_Share_Ratio</th>\n",
       "      <th>Market_Cap</th>\n",
       "      <th>Price_Sales_Ratio</th>\n",
       "      <th>Price_Book_Ratio</th>\n",
       "    </tr>\n",
       "  </thead>\n",
       "  <tbody>\n",
       "    <tr>\n",
       "      <th>0</th>\n",
       "      <td>Best Buy Co. Inc.</td>\n",
       "      <td>Consumer Discretionary</td>\n",
       "      <td>68.79</td>\n",
       "      <td>19.22</td>\n",
       "      <td>1.908504</td>\n",
       "      <td>3.81</td>\n",
       "      <td>2.083119e+10</td>\n",
       "      <td>0.767155</td>\n",
       "      <td>4.79</td>\n",
       "    </tr>\n",
       "    <tr>\n",
       "      <th>1</th>\n",
       "      <td>Hasbro Inc.</td>\n",
       "      <td>Consumer Discretionary</td>\n",
       "      <td>96.48</td>\n",
       "      <td>20.57</td>\n",
       "      <td>2.230483</td>\n",
       "      <td>4.34</td>\n",
       "      <td>1.273207e+10</td>\n",
       "      <td>3.237568</td>\n",
       "      <td>5.82</td>\n",
       "    </tr>\n",
       "    <tr>\n",
       "      <th>2</th>\n",
       "      <td>Leggett &amp; Platt</td>\n",
       "      <td>Consumer Discretionary</td>\n",
       "      <td>43.99</td>\n",
       "      <td>17.88</td>\n",
       "      <td>3.145478</td>\n",
       "      <td>2.76</td>\n",
       "      <td>6.034600e+09</td>\n",
       "      <td>2.030290</td>\n",
       "      <td>4.89</td>\n",
       "    </tr>\n",
       "    <tr>\n",
       "      <th>3</th>\n",
       "      <td>Tractor Supply Company</td>\n",
       "      <td>Consumer Discretionary</td>\n",
       "      <td>65.94</td>\n",
       "      <td>19.57</td>\n",
       "      <td>1.603087</td>\n",
       "      <td>3.30</td>\n",
       "      <td>8.459271e+09</td>\n",
       "      <td>1.164213</td>\n",
       "      <td>6.01</td>\n",
       "    </tr>\n",
       "    <tr>\n",
       "      <th>4</th>\n",
       "      <td>Church &amp; Dwight</td>\n",
       "      <td>Consumer Staples</td>\n",
       "      <td>47.38</td>\n",
       "      <td>24.42</td>\n",
       "      <td>1.836605</td>\n",
       "      <td>2.92</td>\n",
       "      <td>1.183896e+10</td>\n",
       "      <td>3.168245</td>\n",
       "      <td>6.28</td>\n",
       "    </tr>\n",
       "    <tr>\n",
       "      <th>5</th>\n",
       "      <td>Coca-Cola Company (The)</td>\n",
       "      <td>Consumer Staples</td>\n",
       "      <td>43.10</td>\n",
       "      <td>22.80</td>\n",
       "      <td>3.321364</td>\n",
       "      <td>1.49</td>\n",
       "      <td>1.898553e+11</td>\n",
       "      <td>6.822138</td>\n",
       "      <td>8.65</td>\n",
       "    </tr>\n",
       "    <tr>\n",
       "      <th>6</th>\n",
       "      <td>McCormick &amp; Co.</td>\n",
       "      <td>Consumer Staples</td>\n",
       "      <td>101.36</td>\n",
       "      <td>23.91</td>\n",
       "      <td>2.026106</td>\n",
       "      <td>3.73</td>\n",
       "      <td>1.345935e+10</td>\n",
       "      <td>2.778828</td>\n",
       "      <td>5.20</td>\n",
       "    </tr>\n",
       "    <tr>\n",
       "      <th>7</th>\n",
       "      <td>Schlumberger Ltd.</td>\n",
       "      <td>Energy</td>\n",
       "      <td>67.40</td>\n",
       "      <td>44.93</td>\n",
       "      <td>2.867383</td>\n",
       "      <td>-1.08</td>\n",
       "      <td>9.652931e+10</td>\n",
       "      <td>3.229783</td>\n",
       "      <td>2.64</td>\n",
       "    </tr>\n",
       "    <tr>\n",
       "      <th>8</th>\n",
       "      <td>Williams Cos.</td>\n",
       "      <td>Energy</td>\n",
       "      <td>28.56</td>\n",
       "      <td>48.41</td>\n",
       "      <td>4.000000</td>\n",
       "      <td>-0.57</td>\n",
       "      <td>2.480240e+10</td>\n",
       "      <td>4.298285</td>\n",
       "      <td>3.01</td>\n",
       "    </tr>\n",
       "    <tr>\n",
       "      <th>9</th>\n",
       "      <td>Nasdaq, Inc.</td>\n",
       "      <td>Financials</td>\n",
       "      <td>75.21</td>\n",
       "      <td>17.78</td>\n",
       "      <td>1.967128</td>\n",
       "      <td>4.32</td>\n",
       "      <td>1.284430e+10</td>\n",
       "      <td>3.259108</td>\n",
       "      <td>2.25</td>\n",
       "    </tr>\n",
       "    <tr>\n",
       "      <th>10</th>\n",
       "      <td>Raymond James Financial Inc.</td>\n",
       "      <td>Financials</td>\n",
       "      <td>86.06</td>\n",
       "      <td>16.94</td>\n",
       "      <td>1.098298</td>\n",
       "      <td>4.12</td>\n",
       "      <td>1.321627e+10</td>\n",
       "      <td>1.973456</td>\n",
       "      <td>2.34</td>\n",
       "    </tr>\n",
       "    <tr>\n",
       "      <th>11</th>\n",
       "      <td>Torchmark Corp.</td>\n",
       "      <td>Financials</td>\n",
       "      <td>80.52</td>\n",
       "      <td>17.02</td>\n",
       "      <td>0.720461</td>\n",
       "      <td>4.50</td>\n",
       "      <td>9.614412e+09</td>\n",
       "      <td>3.107966</td>\n",
       "      <td>1.88</td>\n",
       "    </tr>\n",
       "    <tr>\n",
       "      <th>12</th>\n",
       "      <td>Becton Dickinson</td>\n",
       "      <td>Health Care</td>\n",
       "      <td>211.44</td>\n",
       "      <td>22.28</td>\n",
       "      <td>1.351838</td>\n",
       "      <td>4.65</td>\n",
       "      <td>5.091018e+10</td>\n",
       "      <td>5.691295</td>\n",
       "      <td>3.98</td>\n",
       "    </tr>\n",
       "    <tr>\n",
       "      <th>13</th>\n",
       "      <td>Boston Scientific</td>\n",
       "      <td>Health Care</td>\n",
       "      <td>25.20</td>\n",
       "      <td>20.00</td>\n",
       "      <td>0.000000</td>\n",
       "      <td>0.07</td>\n",
       "      <td>3.614251e+10</td>\n",
       "      <td>4.055685</td>\n",
       "      <td>4.78</td>\n",
       "    </tr>\n",
       "    <tr>\n",
       "      <th>14</th>\n",
       "      <td>Hologic</td>\n",
       "      <td>Health Care</td>\n",
       "      <td>38.80</td>\n",
       "      <td>19.21</td>\n",
       "      <td>0.000000</td>\n",
       "      <td>2.64</td>\n",
       "      <td>1.118149e+10</td>\n",
       "      <td>4.803350</td>\n",
       "      <td>4.00</td>\n",
       "    </tr>\n",
       "    <tr>\n",
       "      <th>15</th>\n",
       "      <td>United Health Group Inc.</td>\n",
       "      <td>Health Care</td>\n",
       "      <td>216.46</td>\n",
       "      <td>21.47</td>\n",
       "      <td>1.328492</td>\n",
       "      <td>10.71</td>\n",
       "      <td>2.188348e+11</td>\n",
       "      <td>1.090332</td>\n",
       "      <td>4.71</td>\n",
       "    </tr>\n",
       "    <tr>\n",
       "      <th>16</th>\n",
       "      <td>Emerson Electric Company</td>\n",
       "      <td>Industrials</td>\n",
       "      <td>66.40</td>\n",
       "      <td>25.74</td>\n",
       "      <td>2.813225</td>\n",
       "      <td>2.35</td>\n",
       "      <td>4.404030e+10</td>\n",
       "      <td>3.670775</td>\n",
       "      <td>5.01</td>\n",
       "    </tr>\n",
       "    <tr>\n",
       "      <th>17</th>\n",
       "      <td>Expeditors International</td>\n",
       "      <td>Industrials</td>\n",
       "      <td>60.36</td>\n",
       "      <td>25.26</td>\n",
       "      <td>1.352004</td>\n",
       "      <td>2.36</td>\n",
       "      <td>1.104068e+10</td>\n",
       "      <td>2.190319</td>\n",
       "      <td>5.55</td>\n",
       "    </tr>\n",
       "    <tr>\n",
       "      <th>18</th>\n",
       "      <td>Fortive Corp</td>\n",
       "      <td>Industrials</td>\n",
       "      <td>69.14</td>\n",
       "      <td>25.05</td>\n",
       "      <td>0.390571</td>\n",
       "      <td>2.46</td>\n",
       "      <td>2.491650e+10</td>\n",
       "      <td>5.168267</td>\n",
       "      <td>7.17</td>\n",
       "    </tr>\n",
       "    <tr>\n",
       "      <th>19</th>\n",
       "      <td>Raytheon Co.</td>\n",
       "      <td>Industrials</td>\n",
       "      <td>198.74</td>\n",
       "      <td>25.78</td>\n",
       "      <td>1.561276</td>\n",
       "      <td>6.95</td>\n",
       "      <td>5.906626e+10</td>\n",
       "      <td>2.293833</td>\n",
       "      <td>5.28</td>\n",
       "    </tr>\n",
       "    <tr>\n",
       "      <th>20</th>\n",
       "      <td>Waste Management Inc.</td>\n",
       "      <td>Industrials</td>\n",
       "      <td>79.12</td>\n",
       "      <td>25.36</td>\n",
       "      <td>2.080020</td>\n",
       "      <td>2.66</td>\n",
       "      <td>3.548849e+10</td>\n",
       "      <td>3.278767</td>\n",
       "      <td>6.73</td>\n",
       "    </tr>\n",
       "    <tr>\n",
       "      <th>21</th>\n",
       "      <td>Amphenol Corp</td>\n",
       "      <td>Information Technology</td>\n",
       "      <td>84.44</td>\n",
       "      <td>25.90</td>\n",
       "      <td>0.860897</td>\n",
       "      <td>2.05</td>\n",
       "      <td>2.695534e+10</td>\n",
       "      <td>3.856750</td>\n",
       "      <td>6.64</td>\n",
       "    </tr>\n",
       "    <tr>\n",
       "      <th>22</th>\n",
       "      <td>Facebook, Inc.</td>\n",
       "      <td>Information Technology</td>\n",
       "      <td>171.58</td>\n",
       "      <td>27.90</td>\n",
       "      <td>0.000000</td>\n",
       "      <td>5.39</td>\n",
       "      <td>5.234230e+11</td>\n",
       "      <td>13.241967</td>\n",
       "      <td>7.08</td>\n",
       "    </tr>\n",
       "    <tr>\n",
       "      <th>23</th>\n",
       "      <td>Microsoft Corp.</td>\n",
       "      <td>Information Technology</td>\n",
       "      <td>85.01</td>\n",
       "      <td>25.76</td>\n",
       "      <td>1.874791</td>\n",
       "      <td>2.97</td>\n",
       "      <td>6.899784e+11</td>\n",
       "      <td>7.113097</td>\n",
       "      <td>9.49</td>\n",
       "    </tr>\n",
       "    <tr>\n",
       "      <th>24</th>\n",
       "      <td>Texas Instruments</td>\n",
       "      <td>Information Technology</td>\n",
       "      <td>97.66</td>\n",
       "      <td>24.05</td>\n",
       "      <td>2.431850</td>\n",
       "      <td>3.60</td>\n",
       "      <td>1.002625e+11</td>\n",
       "      <td>6.957223</td>\n",
       "      <td>9.32</td>\n",
       "    </tr>\n",
       "    <tr>\n",
       "      <th>25</th>\n",
       "      <td>Total System Services</td>\n",
       "      <td>Information Technology</td>\n",
       "      <td>81.17</td>\n",
       "      <td>25.85</td>\n",
       "      <td>0.609113</td>\n",
       "      <td>3.16</td>\n",
       "      <td>1.569495e+10</td>\n",
       "      <td>3.175548</td>\n",
       "      <td>6.57</td>\n",
       "    </tr>\n",
       "    <tr>\n",
       "      <th>26</th>\n",
       "      <td>Xilinx Inc</td>\n",
       "      <td>Information Technology</td>\n",
       "      <td>62.82</td>\n",
       "      <td>27.19</td>\n",
       "      <td>2.090488</td>\n",
       "      <td>2.32</td>\n",
       "      <td>1.706498e+10</td>\n",
       "      <td>7.101206</td>\n",
       "      <td>7.22</td>\n",
       "    </tr>\n",
       "    <tr>\n",
       "      <th>27</th>\n",
       "      <td>Ecolab Inc.</td>\n",
       "      <td>Materials</td>\n",
       "      <td>127.76</td>\n",
       "      <td>28.08</td>\n",
       "      <td>1.231971</td>\n",
       "      <td>4.14</td>\n",
       "      <td>3.846027e+10</td>\n",
       "      <td>3.736069</td>\n",
       "      <td>5.28</td>\n",
       "    </tr>\n",
       "    <tr>\n",
       "      <th>28</th>\n",
       "      <td>Intl Flavors &amp; Fragrances</td>\n",
       "      <td>Materials</td>\n",
       "      <td>138.00</td>\n",
       "      <td>24.17</td>\n",
       "      <td>1.934128</td>\n",
       "      <td>5.05</td>\n",
       "      <td>1.127004e+10</td>\n",
       "      <td>4.420881</td>\n",
       "      <td>6.34</td>\n",
       "    </tr>\n",
       "    <tr>\n",
       "      <th>29</th>\n",
       "      <td>Boston Properties</td>\n",
       "      <td>Real Estate</td>\n",
       "      <td>112.09</td>\n",
       "      <td>18.05</td>\n",
       "      <td>2.774406</td>\n",
       "      <td>2.93</td>\n",
       "      <td>1.779988e+10</td>\n",
       "      <td>6.839459</td>\n",
       "      <td>3.15</td>\n",
       "    </tr>\n",
       "    <tr>\n",
       "      <th>30</th>\n",
       "      <td>Federal Realty Investment Trust</td>\n",
       "      <td>Real Estate</td>\n",
       "      <td>108.11</td>\n",
       "      <td>18.35</td>\n",
       "      <td>3.592599</td>\n",
       "      <td>3.50</td>\n",
       "      <td>8.077369e+09</td>\n",
       "      <td>12.898601</td>\n",
       "      <td>3.98</td>\n",
       "    </tr>\n",
       "    <tr>\n",
       "      <th>31</th>\n",
       "      <td>DTE Energy Co.</td>\n",
       "      <td>Utilities</td>\n",
       "      <td>98.49</td>\n",
       "      <td>19.12</td>\n",
       "      <td>3.555959</td>\n",
       "      <td>4.82</td>\n",
       "      <td>1.780807e+10</td>\n",
       "      <td>1.909192</td>\n",
       "      <td>1.95</td>\n",
       "    </tr>\n",
       "    <tr>\n",
       "      <th>32</th>\n",
       "      <td>Sempra Energy</td>\n",
       "      <td>Utilities</td>\n",
       "      <td>103.36</td>\n",
       "      <td>19.14</td>\n",
       "      <td>3.160726</td>\n",
       "      <td>5.45</td>\n",
       "      <td>2.616386e+10</td>\n",
       "      <td>3.153030</td>\n",
       "      <td>1.98</td>\n",
       "    </tr>\n",
       "    <tr>\n",
       "      <th>33</th>\n",
       "      <td>Xcel Energy Inc</td>\n",
       "      <td>Utilities</td>\n",
       "      <td>42.44</td>\n",
       "      <td>18.14</td>\n",
       "      <td>3.391427</td>\n",
       "      <td>2.21</td>\n",
       "      <td>2.155961e+10</td>\n",
       "      <td>2.520456</td>\n",
       "      <td>1.94</td>\n",
       "    </tr>\n",
       "  </tbody>\n",
       "</table>\n",
       "</div>"
      ],
      "text/plain": [
       "                               Name                  Sector   Price  \\\n",
       "0                 Best Buy Co. Inc.  Consumer Discretionary   68.79   \n",
       "1                       Hasbro Inc.  Consumer Discretionary   96.48   \n",
       "2                   Leggett & Platt  Consumer Discretionary   43.99   \n",
       "3            Tractor Supply Company  Consumer Discretionary   65.94   \n",
       "4                   Church & Dwight        Consumer Staples   47.38   \n",
       "5           Coca-Cola Company (The)        Consumer Staples   43.10   \n",
       "6                   McCormick & Co.        Consumer Staples  101.36   \n",
       "7                 Schlumberger Ltd.                  Energy   67.40   \n",
       "8                     Williams Cos.                  Energy   28.56   \n",
       "9                      Nasdaq, Inc.              Financials   75.21   \n",
       "10     Raymond James Financial Inc.              Financials   86.06   \n",
       "11                  Torchmark Corp.              Financials   80.52   \n",
       "12                 Becton Dickinson             Health Care  211.44   \n",
       "13                Boston Scientific             Health Care   25.20   \n",
       "14                          Hologic             Health Care   38.80   \n",
       "15         United Health Group Inc.             Health Care  216.46   \n",
       "16         Emerson Electric Company             Industrials   66.40   \n",
       "17         Expeditors International             Industrials   60.36   \n",
       "18                     Fortive Corp             Industrials   69.14   \n",
       "19                     Raytheon Co.             Industrials  198.74   \n",
       "20            Waste Management Inc.             Industrials   79.12   \n",
       "21                    Amphenol Corp  Information Technology   84.44   \n",
       "22                   Facebook, Inc.  Information Technology  171.58   \n",
       "23                  Microsoft Corp.  Information Technology   85.01   \n",
       "24                Texas Instruments  Information Technology   97.66   \n",
       "25            Total System Services  Information Technology   81.17   \n",
       "26                       Xilinx Inc  Information Technology   62.82   \n",
       "27                      Ecolab Inc.               Materials  127.76   \n",
       "28        Intl Flavors & Fragrances               Materials  138.00   \n",
       "29                Boston Properties             Real Estate  112.09   \n",
       "30  Federal Realty Investment Trust             Real Estate  108.11   \n",
       "31                   DTE Energy Co.               Utilities   98.49   \n",
       "32                    Sempra Energy               Utilities  103.36   \n",
       "33                  Xcel Energy Inc               Utilities   42.44   \n",
       "\n",
       "    Price_Earnings_Ratio  Dividend_Yield  Earnings_Share_Ratio    Market_Cap  \\\n",
       "0                  19.22        1.908504                  3.81  2.083119e+10   \n",
       "1                  20.57        2.230483                  4.34  1.273207e+10   \n",
       "2                  17.88        3.145478                  2.76  6.034600e+09   \n",
       "3                  19.57        1.603087                  3.30  8.459271e+09   \n",
       "4                  24.42        1.836605                  2.92  1.183896e+10   \n",
       "5                  22.80        3.321364                  1.49  1.898553e+11   \n",
       "6                  23.91        2.026106                  3.73  1.345935e+10   \n",
       "7                  44.93        2.867383                 -1.08  9.652931e+10   \n",
       "8                  48.41        4.000000                 -0.57  2.480240e+10   \n",
       "9                  17.78        1.967128                  4.32  1.284430e+10   \n",
       "10                 16.94        1.098298                  4.12  1.321627e+10   \n",
       "11                 17.02        0.720461                  4.50  9.614412e+09   \n",
       "12                 22.28        1.351838                  4.65  5.091018e+10   \n",
       "13                 20.00        0.000000                  0.07  3.614251e+10   \n",
       "14                 19.21        0.000000                  2.64  1.118149e+10   \n",
       "15                 21.47        1.328492                 10.71  2.188348e+11   \n",
       "16                 25.74        2.813225                  2.35  4.404030e+10   \n",
       "17                 25.26        1.352004                  2.36  1.104068e+10   \n",
       "18                 25.05        0.390571                  2.46  2.491650e+10   \n",
       "19                 25.78        1.561276                  6.95  5.906626e+10   \n",
       "20                 25.36        2.080020                  2.66  3.548849e+10   \n",
       "21                 25.90        0.860897                  2.05  2.695534e+10   \n",
       "22                 27.90        0.000000                  5.39  5.234230e+11   \n",
       "23                 25.76        1.874791                  2.97  6.899784e+11   \n",
       "24                 24.05        2.431850                  3.60  1.002625e+11   \n",
       "25                 25.85        0.609113                  3.16  1.569495e+10   \n",
       "26                 27.19        2.090488                  2.32  1.706498e+10   \n",
       "27                 28.08        1.231971                  4.14  3.846027e+10   \n",
       "28                 24.17        1.934128                  5.05  1.127004e+10   \n",
       "29                 18.05        2.774406                  2.93  1.779988e+10   \n",
       "30                 18.35        3.592599                  3.50  8.077369e+09   \n",
       "31                 19.12        3.555959                  4.82  1.780807e+10   \n",
       "32                 19.14        3.160726                  5.45  2.616386e+10   \n",
       "33                 18.14        3.391427                  2.21  2.155961e+10   \n",
       "\n",
       "    Price_Sales_Ratio  Price_Book_Ratio  \n",
       "0            0.767155              4.79  \n",
       "1            3.237568              5.82  \n",
       "2            2.030290              4.89  \n",
       "3            1.164213              6.01  \n",
       "4            3.168245              6.28  \n",
       "5            6.822138              8.65  \n",
       "6            2.778828              5.20  \n",
       "7            3.229783              2.64  \n",
       "8            4.298285              3.01  \n",
       "9            3.259108              2.25  \n",
       "10           1.973456              2.34  \n",
       "11           3.107966              1.88  \n",
       "12           5.691295              3.98  \n",
       "13           4.055685              4.78  \n",
       "14           4.803350              4.00  \n",
       "15           1.090332              4.71  \n",
       "16           3.670775              5.01  \n",
       "17           2.190319              5.55  \n",
       "18           5.168267              7.17  \n",
       "19           2.293833              5.28  \n",
       "20           3.278767              6.73  \n",
       "21           3.856750              6.64  \n",
       "22          13.241967              7.08  \n",
       "23           7.113097              9.49  \n",
       "24           6.957223              9.32  \n",
       "25           3.175548              6.57  \n",
       "26           7.101206              7.22  \n",
       "27           3.736069              5.28  \n",
       "28           4.420881              6.34  \n",
       "29           6.839459              3.15  \n",
       "30          12.898601              3.98  \n",
       "31           1.909192              1.95  \n",
       "32           3.153030              1.98  \n",
       "33           2.520456              1.94  "
      ]
     },
     "execution_count": 35,
     "metadata": {},
     "output_type": "execute_result"
    }
   ],
   "source": [
    "filtered_df_RES"
   ]
  },
  {
   "cell_type": "markdown",
   "id": "4badcc17",
   "metadata": {},
   "source": [
    "Creating new table to look at the results:"
   ]
  },
  {
   "cell_type": "code",
   "execution_count": 36,
   "id": "0090400b",
   "metadata": {},
   "outputs": [
    {
     "data": {
      "text/html": [
       "<div>\n",
       "<style scoped>\n",
       "    .dataframe tbody tr th:only-of-type {\n",
       "        vertical-align: middle;\n",
       "    }\n",
       "\n",
       "    .dataframe tbody tr th {\n",
       "        vertical-align: top;\n",
       "    }\n",
       "\n",
       "    .dataframe thead th {\n",
       "        text-align: right;\n",
       "    }\n",
       "</style>\n",
       "<table border=\"1\" class=\"dataframe\">\n",
       "  <thead>\n",
       "    <tr style=\"text-align: right;\">\n",
       "      <th></th>\n",
       "      <th>Sector</th>\n",
       "      <th>Name</th>\n",
       "      <th>Price</th>\n",
       "      <th>Dividend_Yield</th>\n",
       "    </tr>\n",
       "  </thead>\n",
       "  <tbody>\n",
       "    <tr>\n",
       "      <th>15</th>\n",
       "      <td>Health Care</td>\n",
       "      <td>United Health Group Inc.</td>\n",
       "      <td>216.46</td>\n",
       "      <td>1.328492</td>\n",
       "    </tr>\n",
       "    <tr>\n",
       "      <th>1</th>\n",
       "      <td>Consumer Discretionary</td>\n",
       "      <td>Hasbro Inc.</td>\n",
       "      <td>96.48</td>\n",
       "      <td>2.230483</td>\n",
       "    </tr>\n",
       "    <tr>\n",
       "      <th>31</th>\n",
       "      <td>Utilities</td>\n",
       "      <td>DTE Energy Co.</td>\n",
       "      <td>98.49</td>\n",
       "      <td>3.555959</td>\n",
       "    </tr>\n",
       "    <tr>\n",
       "      <th>13</th>\n",
       "      <td>Health Care</td>\n",
       "      <td>Boston Scientific</td>\n",
       "      <td>25.20</td>\n",
       "      <td>0.000000</td>\n",
       "    </tr>\n",
       "    <tr>\n",
       "      <th>26</th>\n",
       "      <td>Information Technology</td>\n",
       "      <td>Xilinx Inc</td>\n",
       "      <td>62.82</td>\n",
       "      <td>2.090488</td>\n",
       "    </tr>\n",
       "    <tr>\n",
       "      <th>9</th>\n",
       "      <td>Financials</td>\n",
       "      <td>Nasdaq, Inc.</td>\n",
       "      <td>75.21</td>\n",
       "      <td>1.967128</td>\n",
       "    </tr>\n",
       "    <tr>\n",
       "      <th>23</th>\n",
       "      <td>Information Technology</td>\n",
       "      <td>Microsoft Corp.</td>\n",
       "      <td>85.01</td>\n",
       "      <td>1.874791</td>\n",
       "    </tr>\n",
       "    <tr>\n",
       "      <th>18</th>\n",
       "      <td>Industrials</td>\n",
       "      <td>Fortive Corp</td>\n",
       "      <td>69.14</td>\n",
       "      <td>0.390571</td>\n",
       "    </tr>\n",
       "    <tr>\n",
       "      <th>32</th>\n",
       "      <td>Utilities</td>\n",
       "      <td>Sempra Energy</td>\n",
       "      <td>103.36</td>\n",
       "      <td>3.160726</td>\n",
       "    </tr>\n",
       "    <tr>\n",
       "      <th>3</th>\n",
       "      <td>Consumer Discretionary</td>\n",
       "      <td>Tractor Supply Company</td>\n",
       "      <td>65.94</td>\n",
       "      <td>1.603087</td>\n",
       "    </tr>\n",
       "  </tbody>\n",
       "</table>\n",
       "</div>"
      ],
      "text/plain": [
       "                    Sector                      Name   Price  Dividend_Yield\n",
       "15             Health Care  United Health Group Inc.  216.46        1.328492\n",
       "1   Consumer Discretionary               Hasbro Inc.   96.48        2.230483\n",
       "31               Utilities            DTE Energy Co.   98.49        3.555959\n",
       "13             Health Care         Boston Scientific   25.20        0.000000\n",
       "26  Information Technology                Xilinx Inc   62.82        2.090488\n",
       "9               Financials              Nasdaq, Inc.   75.21        1.967128\n",
       "23  Information Technology           Microsoft Corp.   85.01        1.874791\n",
       "18             Industrials              Fortive Corp   69.14        0.390571\n",
       "32               Utilities             Sempra Energy  103.36        3.160726\n",
       "3   Consumer Discretionary    Tractor Supply Company   65.94        1.603087"
      ]
     },
     "execution_count": 36,
     "metadata": {},
     "output_type": "execute_result"
    }
   ],
   "source": [
    "sample = filtered_df_RES.sample(n=10)[['Sector','Name','Price', 'Dividend_Yield']]\n",
    "sample\n",
    "#Sample differs every time the code is run, this was the only way to produce a random sample.\n",
    "#The drawback is that after this code is run, everything has to be done manually. "
   ]
  },
  {
   "cell_type": "markdown",
   "id": "f9c64c19",
   "metadata": {},
   "source": [
    "As my sample company with indices (16,6,26,24,29,14,4,5,17) were selected from 'filtered_df_RES'. I have handpicked the Price Values from google, however Libraries such as BS4 can be used to do this automatically. "
   ]
  },
  {
   "cell_type": "code",
   "execution_count": 37,
   "id": "2d827d00",
   "metadata": {},
   "outputs": [
    {
     "data": {
      "text/html": [
       "<div>\n",
       "<style scoped>\n",
       "    .dataframe tbody tr th:only-of-type {\n",
       "        vertical-align: middle;\n",
       "    }\n",
       "\n",
       "    .dataframe tbody tr th {\n",
       "        vertical-align: top;\n",
       "    }\n",
       "\n",
       "    .dataframe thead th {\n",
       "        text-align: right;\n",
       "    }\n",
       "</style>\n",
       "<table border=\"1\" class=\"dataframe\">\n",
       "  <thead>\n",
       "    <tr style=\"text-align: right;\">\n",
       "      <th></th>\n",
       "      <th>Name</th>\n",
       "      <th>Price03_11_21</th>\n",
       "      <th>Price02_07_20</th>\n",
       "      <th>PERCENT_CHANGE</th>\n",
       "    </tr>\n",
       "  </thead>\n",
       "  <tbody>\n",
       "    <tr>\n",
       "      <th>0</th>\n",
       "      <td>Emerson Electric</td>\n",
       "      <td>90.38</td>\n",
       "      <td>61.65</td>\n",
       "      <td>46.601784</td>\n",
       "    </tr>\n",
       "    <tr>\n",
       "      <th>1</th>\n",
       "      <td>McCormick&amp;Co</td>\n",
       "      <td>87.01</td>\n",
       "      <td>90.81</td>\n",
       "      <td>-4.184561</td>\n",
       "    </tr>\n",
       "    <tr>\n",
       "      <th>2</th>\n",
       "      <td>Xilinx Inc</td>\n",
       "      <td>218.70</td>\n",
       "      <td>99.14</td>\n",
       "      <td>120.597135</td>\n",
       "    </tr>\n",
       "    <tr>\n",
       "      <th>3</th>\n",
       "      <td>Texas Instruments</td>\n",
       "      <td>193.58</td>\n",
       "      <td>125.81</td>\n",
       "      <td>53.866942</td>\n",
       "    </tr>\n",
       "    <tr>\n",
       "      <th>4</th>\n",
       "      <td>Boston Properties</td>\n",
       "      <td>110.49</td>\n",
       "      <td>91.55</td>\n",
       "      <td>20.688149</td>\n",
       "    </tr>\n",
       "    <tr>\n",
       "      <th>5</th>\n",
       "      <td>Hologic</td>\n",
       "      <td>73.77</td>\n",
       "      <td>57.86</td>\n",
       "      <td>27.497408</td>\n",
       "    </tr>\n",
       "    <tr>\n",
       "      <th>6</th>\n",
       "      <td>Church&amp;Dwight</td>\n",
       "      <td>91.06</td>\n",
       "      <td>78.29</td>\n",
       "      <td>16.311151</td>\n",
       "    </tr>\n",
       "    <tr>\n",
       "      <th>7</th>\n",
       "      <td>Coca Cola</td>\n",
       "      <td>53.07</td>\n",
       "      <td>44.88</td>\n",
       "      <td>18.248663</td>\n",
       "    </tr>\n",
       "    <tr>\n",
       "      <th>8</th>\n",
       "      <td>Expeditors International</td>\n",
       "      <td>122.60</td>\n",
       "      <td>77.15</td>\n",
       "      <td>58.911212</td>\n",
       "    </tr>\n",
       "  </tbody>\n",
       "</table>\n",
       "</div>"
      ],
      "text/plain": [
       "                       Name  Price03_11_21  Price02_07_20  PERCENT_CHANGE\n",
       "0          Emerson Electric          90.38          61.65       46.601784\n",
       "1              McCormick&Co          87.01          90.81       -4.184561\n",
       "2                Xilinx Inc         218.70          99.14      120.597135\n",
       "3         Texas Instruments         193.58         125.81       53.866942\n",
       "4         Boston Properties         110.49          91.55       20.688149\n",
       "5                   Hologic          73.77          57.86       27.497408\n",
       "6             Church&Dwight          91.06          78.29       16.311151\n",
       "7                 Coca Cola          53.07          44.88       18.248663\n",
       "8  Expeditors International         122.60          77.15       58.911212"
      ]
     },
     "execution_count": 37,
     "metadata": {},
     "output_type": "execute_result"
    }
   ],
   "source": [
    "resu = pd.DataFrame()\n",
    "resu['Name']=['Emerson Electric','McCormick&Co','Xilinx Inc','Texas Instruments','Boston Properties', 'Hologic','Church&Dwight','Coca Cola','Expeditors International']\n",
    "resu['Price03_11_21']=[90.38,87.01,218.7,193.58,110.49,73.77,91.06,53.07,122.6]\n",
    "#I have realised that the intial data for July 2020 is incorrect, thereby I am going to change the \n",
    "# columns so that they represent the data of July 2020 as stated in the original information file.\n",
    "resu['Price02_07_20']=[61.65,90.81,99.14,125.81,91.55,57.86,78.29,44.88,77.15]\n",
    "resu['PERCENT_CHANGE'] =((resu['Price03_11_21']- resu['Price02_07_20'])/resu['Price02_07_20'])*100\n",
    "resu\n",
    "\n"
   ]
  },
  {
   "cell_type": "code",
   "execution_count": 38,
   "id": "5049157a",
   "metadata": {},
   "outputs": [
    {
     "data": {
      "text/plain": [
       "39.83754251520983"
      ]
     },
     "execution_count": 38,
     "metadata": {},
     "output_type": "execute_result"
    }
   ],
   "source": [
    "PC = Mean(resu.PERCENT_CHANGE)\n",
    "PC"
   ]
  },
  {
   "cell_type": "code",
   "execution_count": 39,
   "id": "735ec575",
   "metadata": {},
   "outputs": [
    {
     "data": {
      "text/plain": [
       "44.6964856230032"
      ]
     },
     "execution_count": 39,
     "metadata": {},
     "output_type": "execute_result"
    }
   ],
   "source": [
    "SP500_02_07_20 = 3130\n",
    "SP500_03_11_21 = 4529\n",
    "PCSP500 = (SP500_03_11_21-SP500_02_07_20)/SP500_02_07_20*100\n",
    "PCSP500"
   ]
  },
  {
   "cell_type": "markdown",
   "id": "286a8c17",
   "metadata": {},
   "source": [
    "My stocks have achieved a cumulative of 40% increase, compared to 45% increase in the S&P 500 stocks total over the same period. I think this is a relatively satisfactory result, taking into account the fact that no deep human analysis methods were implemented. Furthermore, it is highly likely that the data source is unreliable, because the values it provides does not suit the trends for the 2020 July Period stock prices. \n",
    "\n",
    "*The comparison made was with respect to the 2020 July Prices*.\n",
    "\n",
    "With dividend payments included:"
   ]
  },
  {
   "cell_type": "code",
   "execution_count": 40,
   "id": "3b89bbf6",
   "metadata": {},
   "outputs": [
    {
     "data": {
      "text/plain": [
       "41.90532029298761"
      ]
     },
     "execution_count": 40,
     "metadata": {},
     "output_type": "execute_result"
    }
   ],
   "source": [
    "resu['Dividend']=[2.8, 2.02, 2.09, 2.43, 2.77, 0, 1.83, 3.32, 1.35]\n",
    "PT = PC + Mean(resu.Dividend)\n",
    "PT"
   ]
  },
  {
   "cell_type": "markdown",
   "id": "0254627e",
   "metadata": {},
   "source": [
    "When the dividend is included, we get a 41% increase compared to 45% in the market. Which is just 4% worse than the market, and a very satisfactory result considering a 100,000$ investment into the stock sample above. "
   ]
  },
  {
   "cell_type": "markdown",
   "id": "3b8bfcee",
   "metadata": {},
   "source": [
    "A step further was taken to determine the original date, when the stock market measurements were made: By studying the presented stock prices, it is probable that the data dates back to 2017(looking at when companies had the presented stock price). Now I am going to compare my results against the market growth from 2017. \n",
    "\n",
    "Now I am going to compare my results against the market growth from 2017:"
   ]
  },
  {
   "cell_type": "code",
   "execution_count": 41,
   "id": "95c51d79",
   "metadata": {
    "scrolled": true
   },
   "outputs": [
    {
     "data": {
      "text/html": [
       "<div>\n",
       "<style scoped>\n",
       "    .dataframe tbody tr th:only-of-type {\n",
       "        vertical-align: middle;\n",
       "    }\n",
       "\n",
       "    .dataframe tbody tr th {\n",
       "        vertical-align: top;\n",
       "    }\n",
       "\n",
       "    .dataframe thead th {\n",
       "        text-align: right;\n",
       "    }\n",
       "</style>\n",
       "<table border=\"1\" class=\"dataframe\">\n",
       "  <thead>\n",
       "    <tr style=\"text-align: right;\">\n",
       "      <th></th>\n",
       "      <th>Price03_11_21</th>\n",
       "      <th>Price2017</th>\n",
       "      <th>PERCENT_CHANGE</th>\n",
       "    </tr>\n",
       "  </thead>\n",
       "  <tbody>\n",
       "    <tr>\n",
       "      <th>0</th>\n",
       "      <td>90.38</td>\n",
       "      <td>66.40</td>\n",
       "      <td>36.114458</td>\n",
       "    </tr>\n",
       "    <tr>\n",
       "      <th>1</th>\n",
       "      <td>87.01</td>\n",
       "      <td>101.36</td>\n",
       "      <td>-14.157459</td>\n",
       "    </tr>\n",
       "    <tr>\n",
       "      <th>2</th>\n",
       "      <td>218.70</td>\n",
       "      <td>62.82</td>\n",
       "      <td>248.137536</td>\n",
       "    </tr>\n",
       "    <tr>\n",
       "      <th>3</th>\n",
       "      <td>193.58</td>\n",
       "      <td>97.66</td>\n",
       "      <td>98.218308</td>\n",
       "    </tr>\n",
       "    <tr>\n",
       "      <th>4</th>\n",
       "      <td>110.49</td>\n",
       "      <td>112.09</td>\n",
       "      <td>-1.427424</td>\n",
       "    </tr>\n",
       "    <tr>\n",
       "      <th>5</th>\n",
       "      <td>73.77</td>\n",
       "      <td>38.80</td>\n",
       "      <td>90.128866</td>\n",
       "    </tr>\n",
       "    <tr>\n",
       "      <th>6</th>\n",
       "      <td>91.06</td>\n",
       "      <td>47.38</td>\n",
       "      <td>92.190798</td>\n",
       "    </tr>\n",
       "    <tr>\n",
       "      <th>7</th>\n",
       "      <td>53.07</td>\n",
       "      <td>43.10</td>\n",
       "      <td>23.132251</td>\n",
       "    </tr>\n",
       "    <tr>\n",
       "      <th>8</th>\n",
       "      <td>122.60</td>\n",
       "      <td>60.36</td>\n",
       "      <td>103.114645</td>\n",
       "    </tr>\n",
       "  </tbody>\n",
       "</table>\n",
       "</div>"
      ],
      "text/plain": [
       "   Price03_11_21  Price2017  PERCENT_CHANGE\n",
       "0          90.38      66.40       36.114458\n",
       "1          87.01     101.36      -14.157459\n",
       "2         218.70      62.82      248.137536\n",
       "3         193.58      97.66       98.218308\n",
       "4         110.49     112.09       -1.427424\n",
       "5          73.77      38.80       90.128866\n",
       "6          91.06      47.38       92.190798\n",
       "7          53.07      43.10       23.132251\n",
       "8         122.60      60.36      103.114645"
      ]
     },
     "execution_count": 41,
     "metadata": {},
     "output_type": "execute_result"
    }
   ],
   "source": [
    "resu2 = pd.DataFrame()\n",
    "resu2['Price03_11_21']=[90.38,87.01,218.7,193.58,110.49,73.77,91.06,53.07,122.6]\n",
    "resu2['Price2017'] = [66.4,101.36,62.82,97.66,112.09, 38.8,47.38,43.10,60.36]\n",
    "resu2['PERCENT_CHANGE'] =((resu2['Price03_11_21']- resu2['Price2017'])/resu2['Price2017'])*100\n",
    "resu2"
   ]
  },
  {
   "cell_type": "code",
   "execution_count": 42,
   "id": "0bfd3c5f",
   "metadata": {},
   "outputs": [
    {
     "data": {
      "text/plain": [
       "75.05021988169216"
      ]
     },
     "execution_count": 42,
     "metadata": {},
     "output_type": "execute_result"
    }
   ],
   "source": [
    "PC = Mean(resu2.PERCENT_CHANGE)\n",
    "PC"
   ]
  },
  {
   "cell_type": "code",
   "execution_count": 44,
   "id": "0fca29f5",
   "metadata": {
    "scrolled": true
   },
   "outputs": [
    {
     "data": {
      "text/plain": [
       "0    84.880456\n",
       "dtype: float64"
      ]
     },
     "execution_count": 44,
     "metadata": {},
     "output_type": "execute_result"
    }
   ],
   "source": [
    "SP500_2017_Jan = 2270\n",
    "PCSP500_2 = (SP500_03_11_21-SP500_2017_Jan)/SP500_2017_Jan*100\n",
    "SP500_2017_June = 2439\n",
    "PCSP500_3 = (SP500_03_11_21-SP500_2017_June)/SP500_2017_June*100\n",
    "SP500_2017_Dec = 2673\n",
    "PCSP500_4 = (SP500_03_11_21-SP500_2017_Dec)/SP500_2017_Dec*100\n",
    "PCSP500_2017 = pd.DataFrame([PCSP500_2,PCSP500_3,PCSP500_4])\n",
    "PCSP500_2017.mean()\n"
   ]
  },
  {
   "cell_type": "markdown",
   "id": "ab3b37e7",
   "metadata": {},
   "source": [
    "Through the price of S&P 500 taken at different time periods in 2017, it is highly likely that my algorithm still slightly underperforms the overall market trend. However, this algorithm can be further tuned with more advanced techniques, and the fact that it under-performs just slightly(without taking into account any dividend profits), demonstrates the prospects of Data Science for Investments and creation of a personalised stock market porfolio. Furthermore, I truly believe that with a some human decision-making in the process of choosing and monitoring one's stock market portfolio it is highly likely that the percentage change can be increased. My program thereby provides for a good base of companies that an investor should consider investing in. p.s Dividends were not included in the last measurements. If we add 2% over a 4-year period, the result becomes very similar to the market. Of course, more samples have to be taken (maybe it was just a lucky guess or a coincidence...) Nonetheless, companies like Microsoft and Facebook are in my stock-pool. (and they skyrocketed since 2017 ;). "
   ]
  },
  {
   "cell_type": "markdown",
   "id": "7a913f44",
   "metadata": {},
   "source": [
    "# Appendix:"
   ]
  },
  {
   "cell_type": "code",
   "execution_count": 45,
   "id": "058367c1",
   "metadata": {},
   "outputs": [
    {
     "name": "stdout",
     "output_type": "stream",
     "text": [
      "\u001b[33mhint: Using 'master' as the name for the initial branch. This default branch name\u001b[m\r\n",
      "\u001b[33mhint: is subject to change. To configure the initial branch name to use in all\u001b[m\r\n",
      "\u001b[33mhint: of your new repositories, which will suppress this warning, call:\u001b[m\r\n",
      "\u001b[33mhint: \u001b[m\r\n",
      "\u001b[33mhint: \tgit config --global init.defaultBranch <name>\u001b[m\r\n",
      "\u001b[33mhint: \u001b[m\r\n",
      "\u001b[33mhint: Names commonly chosen instead of 'master' are 'main', 'trunk' and\u001b[m\r\n",
      "\u001b[33mhint: 'development'. The just-created branch can be renamed via this command:\u001b[m\r\n",
      "\u001b[33mhint: \u001b[m\r\n",
      "\u001b[33mhint: \tgit branch -m <name>\u001b[m\r\n",
      "Initialized empty Git repository in /Users/iskandersergazin/Desktop/.git/\r\n"
     ]
    }
   ],
   "source": [
    "!git init"
   ]
  },
  {
   "cell_type": "code",
   "execution_count": null,
   "id": "5e4182a5",
   "metadata": {},
   "outputs": [],
   "source": []
  }
 ],
 "metadata": {
  "kernelspec": {
   "display_name": "Python 3",
   "language": "python",
   "name": "python3"
  },
  "language_info": {
   "codemirror_mode": {
    "name": "ipython",
    "version": 3
   },
   "file_extension": ".py",
   "mimetype": "text/x-python",
   "name": "python",
   "nbconvert_exporter": "python",
   "pygments_lexer": "ipython3",
   "version": "3.8.8"
  }
 },
 "nbformat": 4,
 "nbformat_minor": 5
}
